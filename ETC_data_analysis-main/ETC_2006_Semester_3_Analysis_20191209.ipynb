{
 "cells": [
  {
   "cell_type": "markdown",
   "metadata": {},
   "source": [
    "# Import DROID File data into SQLite DB"
   ]
  },
  {
   "cell_type": "code",
   "execution_count": 5,
   "metadata": {
    "collapsed": false,
    "jupyter": {
     "outputs_hidden": false
    },
    "pycharm": {
     "name": "#%%\n"
    }
   },
   "outputs": [],
   "source": [
    "from sqlalchemy import create_engine\n",
    "from sqlalchemy import Table, Column, Integer, String, DateTime, Date, MetaData"
   ]
  },
  {
   "cell_type": "code",
   "execution_count": 6,
   "metadata": {
    "collapsed": false,
    "jupyter": {
     "outputs_hidden": false
    },
    "pycharm": {
     "name": "#%%\n"
    }
   },
   "outputs": [],
   "source": [
    "engine = create_engine(\"sqlite:///test.db\", echo=True)"
   ]
  },
  {
   "cell_type": "code",
   "execution_count": 7,
   "metadata": {
    "collapsed": false,
    "jupyter": {
     "outputs_hidden": false
    },
    "pycharm": {
     "name": "#%%\n"
    }
   },
   "outputs": [],
   "source": [
    "metadata = MetaData()"
   ]
  },
  {
   "cell_type": "code",
   "execution_count": 8,
   "metadata": {
    "collapsed": false,
    "jupyter": {
     "outputs_hidden": false
    },
    "pycharm": {
     "name": "#%%\n"
    }
   },
   "outputs": [
    {
     "name": "stdout",
     "output_type": "stream",
     "text": [
      "2021-06-23 09:43:40,758 INFO sqlalchemy.engine.Engine BEGIN (implicit)\n",
      "2021-06-23 09:43:40,759 INFO sqlalchemy.engine.Engine PRAGMA main.table_info(\"droid_ids\")\n",
      "2021-06-23 09:43:40,759 INFO sqlalchemy.engine.Engine [raw sql] ()\n",
      "2021-06-23 09:43:40,760 INFO sqlalchemy.engine.Engine PRAGMA temp.table_info(\"droid_ids\")\n",
      "2021-06-23 09:43:40,760 INFO sqlalchemy.engine.Engine [raw sql] ()\n",
      "2021-06-23 09:43:40,761 INFO sqlalchemy.engine.Engine \n",
      "CREATE TABLE droid_ids (\n",
      "\tid INTEGER NOT NULL, \n",
      "\tparent_id INTEGER, \n",
      "\turi VARCHAR, \n",
      "\tfile_path VARCHAR, \n",
      "\tfilename VARCHAR, \n",
      "\tid_method VARCHAR, \n",
      "\tstatus VARCHAR, \n",
      "\tsize INTEGER, \n",
      "\ttype VARCHAR, \n",
      "\tfile_extension VARCHAR, \n",
      "\tlast_modified DATETIME, \n",
      "\text_mis_warning VARCHAR, \n",
      "\thash VARCHAR, \n",
      "\tfile_format_count INTEGER, \n",
      "\tpronom_id VARCHAR, \n",
      "\tmime_type VARCHAR, \n",
      "\tfile_format_name VARCHAR, \n",
      "\tfile_format_version VARCHAR, \n",
      "\tproject_name VARCHAR, \n",
      "\tPRIMARY KEY (id)\n",
      ")\n",
      "\n",
      "\n",
      "2021-06-23 09:43:40,762 INFO sqlalchemy.engine.Engine [no key 0.00039s] ()\n",
      "2021-06-23 09:43:40,901 INFO sqlalchemy.engine.Engine COMMIT\n"
     ]
    }
   ],
   "source": [
    "droid_ids = Table('droid_ids', metadata,\n",
    "                Column('id', Integer, primary_key=True),\n",
    "                 Column('parent_id', Integer),\n",
    "                 Column('uri', String),\n",
    "                 Column('file_path', String),\n",
    "                 Column('filename', String),\n",
    "                 Column('id_method', String),\n",
    "                 Column('status', String),\n",
    "                 Column('size', Integer),\n",
    "                 Column('type', String),\n",
    "                 Column('file_extension', String),\n",
    "                 Column('last_modified', DateTime),\n",
    "                 Column('ext_mis_warning', String),\n",
    "                 Column('hash', String),\n",
    "                 Column('file_format_count', Integer),\n",
    "                 Column('pronom_id', String),\n",
    "                 Column('mime_type', String),\n",
    "                 Column('file_format_name', String),\n",
    "                 Column('file_format_version', String),\n",
    "                 Column('project_name', String))\n",
    "\n",
    "metadata.create_all(engine)"
   ]
  },
  {
   "cell_type": "code",
   "execution_count": 9,
   "metadata": {
    "collapsed": false,
    "jupyter": {
     "outputs_hidden": false
    },
    "pycharm": {
     "name": "#%%\n"
    }
   },
   "outputs": [],
   "source": [
    "import csv\n",
    "import datetime\n",
    "\n",
    "skyrates_droid_csv = 'Skyrates_DROID_Analysis_20191009.csv'\n",
    "jukebox_droid_csv = 'Jukebox_DROID_Analysis_20191009.csv'\n",
    "cert_droid_csv = 'CERT_DROID_Analysis_20191009.csv'\n",
    "granny_droid_csv = 'ETC_Granny_DROID_Analysis_20191211.csv'\n",
    "\n",
    "droid_headers = [\"id\",\"parent_id\",\"uri\",\n",
    "                 \"file_path\",\"filename\",\"id_method\",\n",
    "                 \"status\",\"size\",\"type\",\"file_extension\",\n",
    "                 \"last_modified\",\"ext_mis_warning\",\n",
    "                 \"hash\",\"file_format_count\",\"pronom_id\",\n",
    "                 \"mime_type\",\"file_format_name\",\"file_format_version\"]\n",
    "droid_int_headers = [\"id\", \"parent_id\", \"size\"]\n",
    "droid_date_headers = [\"last_modified\"]"
   ]
  },
  {
   "cell_type": "code",
   "execution_count": 10,
   "metadata": {
    "collapsed": false,
    "jupyter": {
     "outputs_hidden": false
    },
    "pycharm": {
     "name": "#%%\n"
    }
   },
   "outputs": [],
   "source": [
    "def map_droid_dict_values(row_dict):\n",
    "    new_row_dict = {}\n",
    "    for k in row_dict.keys():\n",
    "        if k in droid_int_headers:\n",
    "            new_row_dict[k] = int(row_dict[k]) if row_dict[k] else 0\n",
    "        elif k in droid_date_headers:\n",
    "            new_row_dict[k] = datetime.datetime.strptime(row_dict[k], '%Y-%m-%dT%H:%M:%S') if row_dict[k] else datetime.datetime.today()\n",
    "        else:\n",
    "            new_row_dict[k] = row_dict[k]\n",
    "    return new_row_dict\n",
    "                \n",
    "def insert_dict_list(csv_file, project_name):\n",
    "    insert_list = []\n",
    "    with open(csv_file, 'r') as f:\n",
    "        first_row = True\n",
    "        dict_reader = csv.DictReader(f, fieldnames=droid_headers)\n",
    "        for row in dict_reader:\n",
    "            if not first_row:\n",
    "                insert_list.append(map_droid_dict_values(row))\n",
    "            first_row = False\n",
    "    for x in insert_list:\n",
    "        x['project_name'] = project_name\n",
    "    return insert_list\n",
    "\n",
    "def max_in_dict_list(ins_list):\n",
    "    return max([ x['id'] for x in ins_list])\n",
    "\n",
    "def modify_ids(ins_list, max_start=0):\n",
    "    max_id = max_in_dict_list(ins_list) + max_start\n",
    "    for d in ins_list:\n",
    "        d['id'] = d['id'] + max_id\n",
    "        d['parent_id'] = d['parent_id'] + max_id\n",
    "    return ins_list"
   ]
  },
  {
   "cell_type": "code",
   "execution_count": 11,
   "metadata": {
    "collapsed": false,
    "jupyter": {
     "outputs_hidden": false
    },
    "pycharm": {
     "name": "#%%\n"
    }
   },
   "outputs": [],
   "source": [
    "\n",
    "droid_ids_ins_list = []\n",
    "ins = droid_ids.insert()\n",
    "\n",
    "skyrates_dict_list = insert_dict_list(skyrates_droid_csv, 'skyrates')\n",
    "                 "
   ]
  },
  {
   "cell_type": "code",
   "execution_count": 12,
   "metadata": {
    "collapsed": false,
    "jupyter": {
     "outputs_hidden": false
    },
    "pycharm": {
     "name": "#%%\n"
    }
   },
   "outputs": [
    {
     "data": {
      "text/plain": [
       "{'id': 2,\n",
       " 'parent_id': 0,\n",
       " 'uri': 'file:/Users/ekaltman/Desktop/2006_semester_3/Skyrates/',\n",
       " 'file_path': '/Users/ekaltman/Desktop/2006_semester_3/Skyrates',\n",
       " 'filename': 'Skyrates',\n",
       " 'id_method': '',\n",
       " 'status': 'Done',\n",
       " 'size': 0,\n",
       " 'type': 'Folder',\n",
       " 'file_extension': '',\n",
       " 'last_modified': datetime.datetime(2019, 9, 20, 13, 44, 19),\n",
       " 'ext_mis_warning': 'false',\n",
       " 'hash': '',\n",
       " 'file_format_count': '',\n",
       " 'pronom_id': '',\n",
       " 'mime_type': '',\n",
       " 'file_format_name': '',\n",
       " 'file_format_version': '',\n",
       " 'project_name': 'skyrates'}"
      ]
     },
     "execution_count": 12,
     "metadata": {},
     "output_type": "execute_result"
    }
   ],
   "source": [
    "skyrates_dict_list[0]"
   ]
  },
  {
   "cell_type": "code",
   "execution_count": 13,
   "metadata": {
    "collapsed": false,
    "jupyter": {
     "outputs_hidden": false
    },
    "pycharm": {
     "name": "#%%\n"
    }
   },
   "outputs": [],
   "source": [
    "jukebox_dict_list = modify_ids(insert_dict_list(jukebox_droid_csv, 'jukebox'), max_start=max_in_dict_list(skyrates_dict_list))"
   ]
  },
  {
   "cell_type": "code",
   "execution_count": 14,
   "metadata": {
    "collapsed": false,
    "jupyter": {
     "outputs_hidden": false
    },
    "pycharm": {
     "name": "#%%\n"
    }
   },
   "outputs": [
    {
     "data": {
      "text/plain": [
       "{'id': 27137,\n",
       " 'parent_id': 27135,\n",
       " 'uri': 'file:/Users/ekaltman/Desktop/2006_semester_3/Jukebox/',\n",
       " 'file_path': '/Users/ekaltman/Desktop/2006_semester_3/Jukebox',\n",
       " 'filename': 'Jukebox',\n",
       " 'id_method': '',\n",
       " 'status': 'Done',\n",
       " 'size': 0,\n",
       " 'type': 'Folder',\n",
       " 'file_extension': '',\n",
       " 'last_modified': datetime.datetime(2019, 9, 30, 12, 35, 27),\n",
       " 'ext_mis_warning': 'false',\n",
       " 'hash': '',\n",
       " 'file_format_count': '',\n",
       " 'pronom_id': '',\n",
       " 'mime_type': '',\n",
       " 'file_format_name': '',\n",
       " 'file_format_version': '',\n",
       " 'project_name': 'jukebox'}"
      ]
     },
     "execution_count": 14,
     "metadata": {},
     "output_type": "execute_result"
    }
   ],
   "source": [
    "jukebox_dict_list[0]"
   ]
  },
  {
   "cell_type": "code",
   "execution_count": 15,
   "metadata": {
    "collapsed": false,
    "jupyter": {
     "outputs_hidden": false
    },
    "pycharm": {
     "name": "#%%\n"
    }
   },
   "outputs": [],
   "source": [
    "cert_dict_list = modify_ids(insert_dict_list(cert_droid_csv, 'cert'), max_start=max_in_dict_list(jukebox_dict_list))"
   ]
  },
  {
   "cell_type": "code",
   "execution_count": 16,
   "metadata": {
    "collapsed": false,
    "jupyter": {
     "outputs_hidden": false
    },
    "pycharm": {
     "name": "#%%\n"
    }
   },
   "outputs": [],
   "source": [
    "granny_dict_list = modify_ids(insert_dict_list(granny_droid_csv, 'granny'), max_start=max_in_dict_list(cert_dict_list))"
   ]
  },
  {
   "cell_type": "code",
   "execution_count": 17,
   "metadata": {
    "collapsed": false,
    "jupyter": {
     "outputs_hidden": false
    },
    "pycharm": {
     "name": "#%%\n"
    }
   },
   "outputs": [],
   "source": [
    "droid_ids_ins_list.extend(skyrates_dict_list)\n",
    "droid_ids_ins_list.extend(jukebox_dict_list)\n",
    "droid_ids_ins_list.extend(cert_dict_list)     \n",
    "droid_ids_ins_list.extend(granny_dict_list)"
   ]
  },
  {
   "cell_type": "code",
   "execution_count": 18,
   "metadata": {
    "collapsed": false,
    "jupyter": {
     "outputs_hidden": false
    },
    "pycharm": {
     "name": "#%%\n"
    }
   },
   "outputs": [
    {
     "data": {
      "text/plain": [
       "142658"
      ]
     },
     "execution_count": 18,
     "metadata": {},
     "output_type": "execute_result"
    }
   ],
   "source": [
    "len(droid_ids_ins_list)"
   ]
  },
  {
   "cell_type": "code",
   "execution_count": 19,
   "metadata": {
    "collapsed": false,
    "jupyter": {
     "outputs_hidden": false
    },
    "pycharm": {
     "name": "#%%\n"
    }
   },
   "outputs": [],
   "source": [
    "conn = engine.connect()"
   ]
  },
  {
   "cell_type": "code",
   "execution_count": 20,
   "metadata": {
    "collapsed": false,
    "jupyter": {
     "outputs_hidden": false
    },
    "pycharm": {
     "name": "#%%\n"
    }
   },
   "outputs": [
    {
     "name": "stdout",
     "output_type": "stream",
     "text": [
      "2021-06-23 09:43:48,883 INFO sqlalchemy.engine.Engine INSERT INTO droid_ids (id, parent_id, uri, file_path, filename, id_method, status, size, type, file_extension, last_modified, ext_mis_warning, hash, file_format_count, pronom_id, mime_type, file_format_name, file_format_version, project_name) VALUES (?, ?, ?, ?, ?, ?, ?, ?, ?, ?, ?, ?, ?, ?, ?, ?, ?, ?, ?)\n",
      "2021-06-23 09:43:48,884 INFO sqlalchemy.engine.Engine [generated in 0.34679s] ((2, 0, 'file:/Users/ekaltman/Desktop/2006_semester_3/Skyrates/', '/Users/ekaltman/Desktop/2006_semester_3/Skyrates', 'Skyrates', '', 'Done', 0, 'Folder', '', '2019-09-20 13:44:19.000000', 'false', '', '', '', '', '', '', 'skyrates'), (4, 2, 'file:/Users/ekaltman/Desktop/2006_semester_3/Skyrates/ChrisArt/', '/Users/ekaltman/Desktop/2006_semester_3/Skyrates/ChrisArt', 'ChrisArt', '', 'Done', 0, 'Folder', '', '2013-01-16 12:15:56.000000', 'false', '', '', '', '', '', '', 'skyrates'), (6, 4, 'file:/Users/ekaltman/Desktop/2006_semester_3/Skyrates/ChrisArt/Thumbs.db', '/Users/ekaltman/Desktop/2006_semester_3/Skyrates/ChrisArt/Thumbs.db', 'Thumbs.db', 'Signature', 'Done', 70656, 'File', 'db', '2013-01-16 12:16:04.000000', 'false', '60e3ebf7b2b24576d2f6adeafd60b284', '1', 'fmt/111', '', 'OLE2 Compound Document Format', '', 'skyrates'), (75, 4, 'file:/Users/ekaltman/Desktop/2006_semester_3/Skyrates/ChrisArt/bear.png', '/Users/ekaltman/Desktop/2006_semester_3/Skyrates/ChrisArt/bear.png', 'bear.png', 'Signature', 'Done', 994531, 'File', 'png', '2006-04-02 20:40:02.000000', 'false', 'ce1737ce762dbc29e4e8c04a6be5ff61', '1', 'fmt/11', 'image/png', 'Portable Network Graphics', '1.0', 'skyrates'), (64, 4, 'file:/Users/ekaltman/Desktop/2006_semester_3/Skyrates/ChrisArt/bear.psd', '/Users/ekaltman/Desktop/2006_semester_3/Skyrates/ChrisArt/bear.psd', 'bear.psd', 'Signature', 'Done', 5396277, 'File', 'psd', '2006-04-02 20:39:26.000000', 'false', 'c9064e342ae46bce3c677a79f84c2808', '1', 'x-fmt/92', 'image/vnd.adobe.photoshop', 'Adobe Photoshop', '', 'skyrates'), (16, 4, 'file:/Users/ekaltman/Desktop/2006_semester_3/Skyrates/ChrisArt/bear_f.png', '/Users/ekaltman/Desktop/2006_semester_3/Skyrates/ChrisArt/bear_f.png', 'bear_f.png', 'Signature', 'Done', 329955, 'File', 'png', '2006-11-15 22:11:16.000000', 'false', 'd587e0ee45daf344f404bba28e4d6501', '1', 'fmt/11', 'image/png', 'Portable Network Graphics', '1.0', 'skyrates'), (12, 4, 'file:/Users/ekaltman/Desktop/2006_semester_3/Skyrates/ChrisArt/boar.png', '/Users/ekaltman/Desktop/2006_semester_3/Skyrates/ChrisArt/boar.png', 'boar.png', 'Signature', 'Done', 640840, 'File', 'png', '2006-05-08 01:30:58.000000', 'false', 'c895198275a27b13b68271244ba68567', '1', 'fmt/11', 'image/png', 'Portable Network Graphics', '1.0', 'skyrates'), (48, 4, 'file:/Users/ekaltman/Desktop/2006_semester_3/Skyrates/ChrisArt/boar.psd', '/Users/ekaltman/Desktop/2006_semester_3/Skyrates/ChrisArt/boar.psd', 'boar.psd', 'Signature', 'Done', 6040006, 'File', 'psd', '2006-05-08 01:27:28.000000', 'false', '842503fac25be2734cd3e3e55f9fefad', '1', 'x-fmt/92', 'image/vnd.adobe.photoshop', 'Adobe Photoshop', '', 'skyrates')  ... displaying 10 of 30000 total bound parameter sets ...  (152473, 152355, 'file:/D:/2006_semester_3/Granny/Granny/Animation/Shots/01/Frames/Shot_01.204.png', 'D:\\\\2006_semester_3\\\\Granny\\\\Granny\\\\Animation\\\\Shots\\\\01\\\\Frames\\\\Shot_01.204.png', 'Shot_01.204.png', 'Signature', 'Done', 218583, 'File', 'png', '2006-12-05 20:38:01.000000', 'false', '', '1', 'fmt/11', 'image/png', 'Portable Network Graphics', '1.0', 'granny'), (152474, 152355, 'file:/D:/2006_semester_3/Granny/Granny/Animation/Shots/01/Frames/Shot_01.205.png', 'D:\\\\2006_semester_3\\\\Granny\\\\Granny\\\\Animation\\\\Shots\\\\01\\\\Frames\\\\Shot_01.205.png', 'Shot_01.205.png', 'Signature', 'Done', 218583, 'File', 'png', '2006-12-05 20:38:01.000000', 'false', '', '1', 'fmt/11', 'image/png', 'Portable Network Graphics', '1.0', 'granny'))\n",
      "2021-06-23 09:43:49,165 INFO sqlalchemy.engine.Engine COMMIT\n"
     ]
    },
    {
     "data": {
      "text/plain": [
       "<sqlalchemy.engine.cursor.LegacyCursorResult at 0x28f9e985520>"
      ]
     },
     "execution_count": 20,
     "metadata": {},
     "output_type": "execute_result"
    }
   ],
   "source": [
    "conn.execute(ins, droid_ids_ins_list[:30000])"
   ]
  },
  {
   "cell_type": "code",
   "execution_count": 21,
   "metadata": {
    "collapsed": false,
    "jupyter": {
     "outputs_hidden": false
    },
    "pycharm": {
     "name": "#%%\n"
    }
   },
   "outputs": [
    {
     "name": "stdout",
     "output_type": "stream",
     "text": [
      "2021-06-23 09:43:50,325 INFO sqlalchemy.engine.Engine INSERT INTO droid_ids (id, parent_id, uri, file_path, filename, id_method, status, size, type, file_extension, last_modified, ext_mis_warning, hash, file_format_count, pronom_id, mime_type, file_format_name, file_format_version, project_name) VALUES (?, ?, ?, ?, ?, ?, ?, ?, ?, ?, ?, ?, ?, ?, ?, ?, ?, ?, ?)\n",
      "2021-06-23 09:43:50,326 INFO sqlalchemy.engine.Engine [cached since 1.79s ago] ((152475, 152355, 'file:/D:/2006_semester_3/Granny/Granny/Animation/Shots/01/Frames/Shot_01.206.png', 'D:\\\\2006_semester_3\\\\Granny\\\\Granny\\\\Animation\\\\Shots\\\\01\\\\Frames\\\\Shot_01.206.png', 'Shot_01.206.png', 'Signature', 'Done', 218583, 'File', 'png', '2006-12-05 20:38:01.000000', 'false', '', '1', 'fmt/11', 'image/png', 'Portable Network Graphics', '1.0', 'granny'), (152476, 152355, 'file:/D:/2006_semester_3/Granny/Granny/Animation/Shots/01/Frames/Shot_01.207.png', 'D:\\\\2006_semester_3\\\\Granny\\\\Granny\\\\Animation\\\\Shots\\\\01\\\\Frames\\\\Shot_01.207.png', 'Shot_01.207.png', 'Signature', 'Done', 218583, 'File', 'png', '2006-12-05 20:38:02.000000', 'false', '', '1', 'fmt/11', 'image/png', 'Portable Network Graphics', '1.0', 'granny'), (152477, 152355, 'file:/D:/2006_semester_3/Granny/Granny/Animation/Shots/01/Frames/Shot_01.208.png', 'D:\\\\2006_semester_3\\\\Granny\\\\Granny\\\\Animation\\\\Shots\\\\01\\\\Frames\\\\Shot_01.208.png', 'Shot_01.208.png', 'Signature', 'Done', 218583, 'File', 'png', '2006-12-05 20:38:02.000000', 'false', '', '1', 'fmt/11', 'image/png', 'Portable Network Graphics', '1.0', 'granny'), (152478, 152355, 'file:/D:/2006_semester_3/Granny/Granny/Animation/Shots/01/Frames/Shot_01.209.png', 'D:\\\\2006_semester_3\\\\Granny\\\\Granny\\\\Animation\\\\Shots\\\\01\\\\Frames\\\\Shot_01.209.png', 'Shot_01.209.png', 'Signature', 'Done', 218583, 'File', 'png', '2006-12-05 20:38:02.000000', 'false', '', '1', 'fmt/11', 'image/png', 'Portable Network Graphics', '1.0', 'granny'), (152479, 152355, 'file:/D:/2006_semester_3/Granny/Granny/Animation/Shots/01/Frames/Shot_01.21.png', 'D:\\\\2006_semester_3\\\\Granny\\\\Granny\\\\Animation\\\\Shots\\\\01\\\\Frames\\\\Shot_01.21.png', 'Shot_01.21.png', 'Signature', 'Done', 196229, 'File', 'png', '2006-12-05 20:37:16.000000', 'false', '', '1', 'fmt/11', 'image/png', 'Portable Network Graphics', '1.0', 'granny'), (152480, 152355, 'file:/D:/2006_semester_3/Granny/Granny/Animation/Shots/01/Frames/Shot_01.210.png', 'D:\\\\2006_semester_3\\\\Granny\\\\Granny\\\\Animation\\\\Shots\\\\01\\\\Frames\\\\Shot_01.210.png', 'Shot_01.210.png', 'Signature', 'Done', 218583, 'File', 'png', '2006-12-05 20:38:02.000000', 'false', '', '1', 'fmt/11', 'image/png', 'Portable Network Graphics', '1.0', 'granny'), (152481, 152355, 'file:/D:/2006_semester_3/Granny/Granny/Animation/Shots/01/Frames/Shot_01.211.png', 'D:\\\\2006_semester_3\\\\Granny\\\\Granny\\\\Animation\\\\Shots\\\\01\\\\Frames\\\\Shot_01.211.png', 'Shot_01.211.png', 'Signature', 'Done', 218583, 'File', 'png', '2006-12-05 20:38:03.000000', 'false', '', '1', 'fmt/11', 'image/png', 'Portable Network Graphics', '1.0', 'granny'), (152482, 152355, 'file:/D:/2006_semester_3/Granny/Granny/Animation/Shots/01/Frames/Shot_01.212.png', 'D:\\\\2006_semester_3\\\\Granny\\\\Granny\\\\Animation\\\\Shots\\\\01\\\\Frames\\\\Shot_01.212.png', 'Shot_01.212.png', 'Signature', 'Done', 218583, 'File', 'png', '2006-12-05 20:38:03.000000', 'false', '', '1', 'fmt/11', 'image/png', 'Portable Network Graphics', '1.0', 'granny')  ... displaying 10 of 30000 total bound parameter sets ...  (182473, 182397, 'file:/D:/2006_semester_3/Granny/Granny/From%20Locksmith-Muster/MayaProject/particles/Shot_76-sim/heroBodyCementParticlesShape.25250.pdc', 'D:\\\\2006_semester_3\\\\Granny\\\\Granny\\\\From Locksmith-Muster\\\\MayaProject\\\\particles\\\\Shot_76-sim\\\\heroBodyCementParticlesShape.25250.pdc', 'heroBodyCementParticlesShape.25250.pdc', '', 'Done', 3105134, 'File', 'pdc', '2006-11-02 18:31:18.000000', 'false', '', '0', '', '', '', '', 'granny'), (182474, 182397, 'file:/D:/2006_semester_3/Granny/Granny/From%20Locksmith-Muster/MayaProject/particles/Shot_76-sim/heroBodyCementParticlesShape.25500.pdc', 'D:\\\\2006_semester_3\\\\Granny\\\\Granny\\\\From Locksmith-Muster\\\\MayaProject\\\\particles\\\\Shot_76-sim\\\\heroBodyCementParticlesShape.25500.pdc', 'heroBodyCementParticlesShape.25500.pdc', '', 'Done', 3105134, 'File', 'pdc', '2006-11-02 18:31:25.000000', 'false', '', '0', '', '', '', '', 'granny'))\n",
      "2021-06-23 09:43:50,512 INFO sqlalchemy.engine.Engine COMMIT\n"
     ]
    },
    {
     "data": {
      "text/plain": [
       "<sqlalchemy.engine.cursor.LegacyCursorResult at 0x28fae4b8ee0>"
      ]
     },
     "execution_count": 21,
     "metadata": {},
     "output_type": "execute_result"
    }
   ],
   "source": [
    "conn.execute(ins, droid_ids_ins_list[30000:60000])"
   ]
  },
  {
   "cell_type": "code",
   "execution_count": 22,
   "metadata": {
    "collapsed": false,
    "jupyter": {
     "outputs_hidden": false
    },
    "pycharm": {
     "name": "#%%\n"
    }
   },
   "outputs": [
    {
     "name": "stdout",
     "output_type": "stream",
     "text": [
      "2021-06-23 09:43:51,306 INFO sqlalchemy.engine.Engine INSERT INTO droid_ids (id, parent_id, uri, file_path, filename, id_method, status, size, type, file_extension, last_modified, ext_mis_warning, hash, file_format_count, pronom_id, mime_type, file_format_name, file_format_version, project_name) VALUES (?, ?, ?, ?, ?, ?, ?, ?, ?, ?, ?, ?, ?, ?, ?, ?, ?, ?, ?)\n",
      "2021-06-23 09:43:51,307 INFO sqlalchemy.engine.Engine [cached since 2.77s ago] ((182475, 182397, 'file:/D:/2006_semester_3/Granny/Granny/From%20Locksmith-Muster/MayaProject/particles/Shot_76-sim/heroBodyCementParticlesShape.25750.pdc', 'D:\\\\2006_semester_3\\\\Granny\\\\Granny\\\\From Locksmith-Muster\\\\MayaProject\\\\particles\\\\Shot_76-sim\\\\heroBodyCementParticlesShape.25750.pdc', 'heroBodyCementParticlesShape.25750.pdc', '', 'Done', 3105134, 'File', 'pdc', '2006-11-02 18:31:32.000000', 'false', '', '0', '', '', '', '', 'granny'), (182476, 182397, 'file:/D:/2006_semester_3/Granny/Granny/From%20Locksmith-Muster/MayaProject/particles/Shot_76-sim/heroBodyCementParticlesShape.26000.pdc', 'D:\\\\2006_semester_3\\\\Granny\\\\Granny\\\\From Locksmith-Muster\\\\MayaProject\\\\particles\\\\Shot_76-sim\\\\heroBodyCementParticlesShape.26000.pdc', 'heroBodyCementParticlesShape.26000.pdc', '', 'Done', 3105134, 'File', 'pdc', '2006-11-02 18:31:39.000000', 'false', '', '0', '', '', '', '', 'granny'), (182477, 182397, 'file:/D:/2006_semester_3/Granny/Granny/From%20Locksmith-Muster/MayaProject/particles/Shot_76-sim/heroBodyCementParticlesShape.26250.pdc', 'D:\\\\2006_semester_3\\\\Granny\\\\Granny\\\\From Locksmith-Muster\\\\MayaProject\\\\particles\\\\Shot_76-sim\\\\heroBodyCementParticlesShape.26250.pdc', 'heroBodyCementParticlesShape.26250.pdc', '', 'Done', 3105134, 'File', 'pdc', '2006-11-02 18:31:46.000000', 'false', '', '0', '', '', '', '', 'granny'), (182478, 182397, 'file:/D:/2006_semester_3/Granny/Granny/From%20Locksmith-Muster/MayaProject/particles/Shot_76-sim/heroBodyCementParticlesShape.26500.pdc', 'D:\\\\2006_semester_3\\\\Granny\\\\Granny\\\\From Locksmith-Muster\\\\MayaProject\\\\particles\\\\Shot_76-sim\\\\heroBodyCementParticlesShape.26500.pdc', 'heroBodyCementParticlesShape.26500.pdc', '', 'Done', 3105134, 'File', 'pdc', '2006-11-02 18:31:53.000000', 'false', '', '0', '', '', '', '', 'granny'), (182479, 182397, 'file:/D:/2006_semester_3/Granny/Granny/From%20Locksmith-Muster/MayaProject/particles/Shot_76-sim/heroBodyCementParticlesShape.26750.pdc', 'D:\\\\2006_semester_3\\\\Granny\\\\Granny\\\\From Locksmith-Muster\\\\MayaProject\\\\particles\\\\Shot_76-sim\\\\heroBodyCementParticlesShape.26750.pdc', 'heroBodyCementParticlesShape.26750.pdc', '', 'Done', 3105134, 'File', 'pdc', '2006-11-02 18:32:00.000000', 'false', '', '0', '', '', '', '', 'granny'), (182480, 182397, 'file:/D:/2006_semester_3/Granny/Granny/From%20Locksmith-Muster/MayaProject/particles/Shot_76-sim/heroBodyCementParticlesShape.27000.pdc', 'D:\\\\2006_semester_3\\\\Granny\\\\Granny\\\\From Locksmith-Muster\\\\MayaProject\\\\particles\\\\Shot_76-sim\\\\heroBodyCementParticlesShape.27000.pdc', 'heroBodyCementParticlesShape.27000.pdc', '', 'Done', 3105134, 'File', 'pdc', '2006-11-02 18:32:07.000000', 'false', '', '0', '', '', '', '', 'granny'), (182481, 182397, 'file:/D:/2006_semester_3/Granny/Granny/From%20Locksmith-Muster/MayaProject/particles/Shot_76-sim/heroBodyCementParticlesShape.27250.pdc', 'D:\\\\2006_semester_3\\\\Granny\\\\Granny\\\\From Locksmith-Muster\\\\MayaProject\\\\particles\\\\Shot_76-sim\\\\heroBodyCementParticlesShape.27250.pdc', 'heroBodyCementParticlesShape.27250.pdc', '', 'Done', 3105134, 'File', 'pdc', '2006-11-02 18:32:14.000000', 'false', '', '0', '', '', '', '', 'granny'), (182482, 182397, 'file:/D:/2006_semester_3/Granny/Granny/From%20Locksmith-Muster/MayaProject/particles/Shot_76-sim/heroBodyCementParticlesShape.2750.pdc', 'D:\\\\2006_semester_3\\\\Granny\\\\Granny\\\\From Locksmith-Muster\\\\MayaProject\\\\particles\\\\Shot_76-sim\\\\heroBodyCementParticlesShape.2750.pdc', 'heroBodyCementParticlesShape.2750.pdc', '', 'Done', 3203646, 'File', 'pdc', '2006-11-02 18:19:33.000000', 'false', '', '0', '', '', '', '', 'granny')  ... displaying 10 of 30000 total bound parameter sets ...  (212474, 212412, 'file:/D:/2006_semester_3/Granny/Granny/MayaProject/particles/Shot_71-sim/heroBodyCementDrippyShape.250.pdc', 'D:\\\\2006_semester_3\\\\Granny\\\\Granny\\\\MayaProject\\\\particles\\\\Shot_71-sim\\\\heroBodyCementDrippyShape.250.pdc', 'heroBodyCementDrippyShape.250.pdc', '', 'Done', 337700, 'File', 'pdc', '2006-12-11 13:29:42.000000', 'false', '', '0', '', '', '', '', 'granny'), (212475, 212412, 'file:/D:/2006_semester_3/Granny/Granny/MayaProject/particles/Shot_71-sim/heroBodyCementDrippyShape.2500.pdc', 'D:\\\\2006_semester_3\\\\Granny\\\\Granny\\\\MayaProject\\\\particles\\\\Shot_71-sim\\\\heroBodyCementDrippyShape.2500.pdc', 'heroBodyCementDrippyShape.2500.pdc', '', 'Done', 436260, 'File', 'pdc', '2006-12-11 13:29:57.000000', 'false', '', '0', '', '', '', '', 'granny'))\n",
      "2021-06-23 09:43:51,507 INFO sqlalchemy.engine.Engine COMMIT\n"
     ]
    },
    {
     "data": {
      "text/plain": [
       "<sqlalchemy.engine.cursor.LegacyCursorResult at 0x28fa116fa90>"
      ]
     },
     "execution_count": 22,
     "metadata": {},
     "output_type": "execute_result"
    }
   ],
   "source": [
    "conn.execute(ins, droid_ids_ins_list[60000:90000])"
   ]
  },
  {
   "cell_type": "code",
   "execution_count": 23,
   "metadata": {
    "collapsed": false,
    "jupyter": {
     "outputs_hidden": false
    },
    "pycharm": {
     "name": "#%%\n"
    }
   },
   "outputs": [
    {
     "name": "stdout",
     "output_type": "stream",
     "text": [
      "2021-06-23 09:43:52,388 INFO sqlalchemy.engine.Engine INSERT INTO droid_ids (id, parent_id, uri, file_path, filename, id_method, status, size, type, file_extension, last_modified, ext_mis_warning, hash, file_format_count, pronom_id, mime_type, file_format_name, file_format_version, project_name) VALUES (?, ?, ?, ?, ?, ?, ?, ?, ?, ?, ?, ?, ?, ?, ?, ?, ?, ?, ?)\n",
      "2021-06-23 09:43:52,389 INFO sqlalchemy.engine.Engine [cached since 3.852s ago] ((212476, 212412, 'file:/D:/2006_semester_3/Granny/Granny/MayaProject/particles/Shot_71-sim/heroBodyCementDrippyShape.2750.pdc', 'D:\\\\2006_semester_3\\\\Granny\\\\Granny\\\\MayaProject\\\\particles\\\\Shot_71-sim\\\\heroBodyCementDrippyShape.2750.pdc', 'heroBodyCementDrippyShape.2750.pdc', '', 'Done', 439780, 'File', 'pdc', '2006-12-11 13:29:59.000000', 'false', '', '0', '', '', '', '', 'granny'), (212477, 212412, 'file:/D:/2006_semester_3/Granny/Granny/MayaProject/particles/Shot_71-sim/heroBodyCementDrippyShape.3000.pdc', 'D:\\\\2006_semester_3\\\\Granny\\\\Granny\\\\MayaProject\\\\particles\\\\Shot_71-sim\\\\heroBodyCementDrippyShape.3000.pdc', 'heroBodyCementDrippyShape.3000.pdc', '', 'Done', 441700, 'File', 'pdc', '2006-12-11 13:30:00.000000', 'false', '', '0', '', '', '', '', 'granny'), (212478, 212412, 'file:/D:/2006_semester_3/Granny/Granny/MayaProject/particles/Shot_71-sim/heroBodyCementDrippyShape.3250.pdc', 'D:\\\\2006_semester_3\\\\Granny\\\\Granny\\\\MayaProject\\\\particles\\\\Shot_71-sim\\\\heroBodyCementDrippyShape.3250.pdc', 'heroBodyCementDrippyShape.3250.pdc', '', 'Done', 442020, 'File', 'pdc', '2006-12-11 13:30:02.000000', 'false', '', '0', '', '', '', '', 'granny'), (212479, 212412, 'file:/D:/2006_semester_3/Granny/Granny/MayaProject/particles/Shot_71-sim/heroBodyCementDrippyShape.3500.pdc', 'D:\\\\2006_semester_3\\\\Granny\\\\Granny\\\\MayaProject\\\\particles\\\\Shot_71-sim\\\\heroBodyCementDrippyShape.3500.pdc', 'heroBodyCementDrippyShape.3500.pdc', '', 'Done', 442660, 'File', 'pdc', '2006-12-11 13:30:04.000000', 'false', '', '0', '', '', '', '', 'granny'), (212480, 212412, 'file:/D:/2006_semester_3/Granny/Granny/MayaProject/particles/Shot_71-sim/heroBodyCementDrippyShape.3750.pdc', 'D:\\\\2006_semester_3\\\\Granny\\\\Granny\\\\MayaProject\\\\particles\\\\Shot_71-sim\\\\heroBodyCementDrippyShape.3750.pdc', 'heroBodyCementDrippyShape.3750.pdc', '', 'Done', 442660, 'File', 'pdc', '2006-12-11 13:30:05.000000', 'false', '', '0', '', '', '', '', 'granny'), (212481, 212412, 'file:/D:/2006_semester_3/Granny/Granny/MayaProject/particles/Shot_71-sim/heroBodyCementDrippyShape.4000.pdc', 'D:\\\\2006_semester_3\\\\Granny\\\\Granny\\\\MayaProject\\\\particles\\\\Shot_71-sim\\\\heroBodyCementDrippyShape.4000.pdc', 'heroBodyCementDrippyShape.4000.pdc', '', 'Done', 439460, 'File', 'pdc', '2006-12-11 13:30:07.000000', 'false', '', '0', '', '', '', '', 'granny'), (212482, 212412, 'file:/D:/2006_semester_3/Granny/Granny/MayaProject/particles/Shot_71-sim/heroBodyCementDrippyShape.4250.pdc', 'D:\\\\2006_semester_3\\\\Granny\\\\Granny\\\\MayaProject\\\\particles\\\\Shot_71-sim\\\\heroBodyCementDrippyShape.4250.pdc', 'heroBodyCementDrippyShape.4250.pdc', '', 'Done', 436260, 'File', 'pdc', '2006-12-11 13:30:09.000000', 'false', '', '0', '', '', '', '', 'granny'), (212483, 212412, 'file:/D:/2006_semester_3/Granny/Granny/MayaProject/particles/Shot_71-sim/heroBodyCementDrippyShape.4500.pdc', 'D:\\\\2006_semester_3\\\\Granny\\\\Granny\\\\MayaProject\\\\particles\\\\Shot_71-sim\\\\heroBodyCementDrippyShape.4500.pdc', 'heroBodyCementDrippyShape.4500.pdc', '', 'Done', 428580, 'File', 'pdc', '2006-12-11 13:30:11.000000', 'false', '', '0', '', '', '', '', 'granny')  ... displaying 10 of 30000 total bound parameter sets ...  (242473, 242384, 'file:/D:/2006_semester_3/Granny/Granny/Output/Play%20Blasts/HeroCementDrying/HeroCementDrying.0087.iff', 'D:\\\\2006_semester_3\\\\Granny\\\\Granny\\\\Output\\\\Play Blasts\\\\HeroCementDrying\\\\HeroCementDrying.0087.iff', 'HeroCementDrying.0087.iff', 'Signature', 'Done', 1230216, 'File', 'iff', '2006-11-03 12:37:40.000000', 'false', '', '1', 'fmt/1169', '', 'Maya IFF Image File', '', 'granny'), (242474, 242384, 'file:/D:/2006_semester_3/Granny/Granny/Output/Play%20Blasts/HeroCementDrying/HeroCementDrying.0088.iff', 'D:\\\\2006_semester_3\\\\Granny\\\\Granny\\\\Output\\\\Play Blasts\\\\HeroCementDrying\\\\HeroCementDrying.0088.iff', 'HeroCementDrying.0088.iff', 'Signature', 'Done', 1230216, 'File', 'iff', '2006-11-03 12:37:42.000000', 'false', '', '1', 'fmt/1169', '', 'Maya IFF Image File', '', 'granny'))\n",
      "2021-06-23 09:43:52,636 INFO sqlalchemy.engine.Engine COMMIT\n"
     ]
    },
    {
     "data": {
      "text/plain": [
       "<sqlalchemy.engine.cursor.LegacyCursorResult at 0x28f9e36ea30>"
      ]
     },
     "execution_count": 23,
     "metadata": {},
     "output_type": "execute_result"
    }
   ],
   "source": [
    "conn.execute(ins, droid_ids_ins_list[90000:120000])"
   ]
  },
  {
   "cell_type": "code",
   "execution_count": 24,
   "metadata": {
    "collapsed": false,
    "jupyter": {
     "outputs_hidden": false
    },
    "pycharm": {
     "name": "#%%\n"
    }
   },
   "outputs": [
    {
     "name": "stdout",
     "output_type": "stream",
     "text": [
      "2021-06-23 09:43:53,330 INFO sqlalchemy.engine.Engine INSERT INTO droid_ids (id, parent_id, uri, file_path, filename, id_method, status, size, type, file_extension, last_modified, ext_mis_warning, hash, file_format_count, pronom_id, mime_type, file_format_name, file_format_version, project_name) VALUES (?, ?, ?, ?, ?, ?, ?, ?, ?, ?, ?, ?, ?, ?, ?, ?, ?, ?, ?)\n",
      "2021-06-23 09:43:53,331 INFO sqlalchemy.engine.Engine [cached since 4.794s ago] ((242475, 242384, 'file:/D:/2006_semester_3/Granny/Granny/Output/Play%20Blasts/HeroCementDrying/HeroCementDrying.0089.iff', 'D:\\\\2006_semester_3\\\\Granny\\\\Granny\\\\Output\\\\Play Blasts\\\\HeroCementDrying\\\\HeroCementDrying.0089.iff', 'HeroCementDrying.0089.iff', 'Signature', 'Done', 1230216, 'File', 'iff', '2006-11-03 12:37:45.000000', 'false', '', '1', 'fmt/1169', '', 'Maya IFF Image File', '', 'granny'), (242476, 242384, 'file:/D:/2006_semester_3/Granny/Granny/Output/Play%20Blasts/HeroCementDrying/HeroCementDrying.0090.iff', 'D:\\\\2006_semester_3\\\\Granny\\\\Granny\\\\Output\\\\Play Blasts\\\\HeroCementDrying\\\\HeroCementDrying.0090.iff', 'HeroCementDrying.0090.iff', 'Signature', 'Done', 1230216, 'File', 'iff', '2006-11-03 12:37:47.000000', 'false', '', '1', 'fmt/1169', '', 'Maya IFF Image File', '', 'granny'), (242477, 242384, 'file:/D:/2006_semester_3/Granny/Granny/Output/Play%20Blasts/HeroCementDrying/HeroCementDrying.0091.iff', 'D:\\\\2006_semester_3\\\\Granny\\\\Granny\\\\Output\\\\Play Blasts\\\\HeroCementDrying\\\\HeroCementDrying.0091.iff', 'HeroCementDrying.0091.iff', 'Signature', 'Done', 1230216, 'File', 'iff', '2006-11-03 12:37:50.000000', 'false', '', '1', 'fmt/1169', '', 'Maya IFF Image File', '', 'granny'), (242478, 242384, 'file:/D:/2006_semester_3/Granny/Granny/Output/Play%20Blasts/HeroCementDrying/HeroCementDrying.0092.iff', 'D:\\\\2006_semester_3\\\\Granny\\\\Granny\\\\Output\\\\Play Blasts\\\\HeroCementDrying\\\\HeroCementDrying.0092.iff', 'HeroCementDrying.0092.iff', 'Signature', 'Done', 1230216, 'File', 'iff', '2006-11-03 12:37:53.000000', 'false', '', '1', 'fmt/1169', '', 'Maya IFF Image File', '', 'granny'), (242479, 242384, 'file:/D:/2006_semester_3/Granny/Granny/Output/Play%20Blasts/HeroCementDrying/HeroCementDrying.0093.iff', 'D:\\\\2006_semester_3\\\\Granny\\\\Granny\\\\Output\\\\Play Blasts\\\\HeroCementDrying\\\\HeroCementDrying.0093.iff', 'HeroCementDrying.0093.iff', 'Signature', 'Done', 1230216, 'File', 'iff', '2006-11-03 12:37:55.000000', 'false', '', '1', 'fmt/1169', '', 'Maya IFF Image File', '', 'granny'), (242480, 242384, 'file:/D:/2006_semester_3/Granny/Granny/Output/Play%20Blasts/HeroCementDrying/HeroCementDrying.0094.iff', 'D:\\\\2006_semester_3\\\\Granny\\\\Granny\\\\Output\\\\Play Blasts\\\\HeroCementDrying\\\\HeroCementDrying.0094.iff', 'HeroCementDrying.0094.iff', 'Signature', 'Done', 1230216, 'File', 'iff', '2006-11-03 12:37:58.000000', 'false', '', '1', 'fmt/1169', '', 'Maya IFF Image File', '', 'granny'), (242481, 242384, 'file:/D:/2006_semester_3/Granny/Granny/Output/Play%20Blasts/HeroCementDrying/HeroCementDrying.0095.iff', 'D:\\\\2006_semester_3\\\\Granny\\\\Granny\\\\Output\\\\Play Blasts\\\\HeroCementDrying\\\\HeroCementDrying.0095.iff', 'HeroCementDrying.0095.iff', 'Signature', 'Done', 1230216, 'File', 'iff', '2006-11-03 12:38:00.000000', 'false', '', '1', 'fmt/1169', '', 'Maya IFF Image File', '', 'granny'), (242482, 242384, 'file:/D:/2006_semester_3/Granny/Granny/Output/Play%20Blasts/HeroCementDrying/HeroCementDrying.0096.iff', 'D:\\\\2006_semester_3\\\\Granny\\\\Granny\\\\Output\\\\Play Blasts\\\\HeroCementDrying\\\\HeroCementDrying.0096.iff', 'HeroCementDrying.0096.iff', 'Signature', 'Done', 1230216, 'File', 'iff', '2006-11-03 12:38:03.000000', 'false', '', '1', 'fmt/1169', '', 'Maya IFF Image File', '', 'granny')  ... displaying 10 of 22658 total bound parameter sets ...  (258303, 258294, 'zip:zip:file:/D:/2006_semester_3/Granny/Granny/Tools/MEL%20Scripts_Plugins/Artist_scripts/Comet_scripts_plugins/resetSkinJoints/resetSkinJoint.zip!/source.zip!/resetSkinJoint.h', '', 'resetSkinJoint.h', '', 'Done', 3904, 'File', 'h', '2005-03-09 07:15:26.000000', 'false', '', '0', '', '', '', '', 'granny'), (258875, 258872, 'zip:zip:file:/D:/2006_semester_3/Granny/Granny/Tools/MEL%20Scripts_Plugins/Effects/MRSL_Lens%20Effects/mrsl_lens_library_v1.12.zip!/mrsl/mac/maya/mentalray/lib/mrsl.so.zip!/mrsl.so', '', 'mrsl.so', 'Signature', 'Done', 14332, 'File', 'so', '2005-11-14 23:05:04.000000', 'false', '', '1', 'fmt/692', '', 'Mach-O', '32bit', 'granny'))\n",
      "2021-06-23 09:43:53,515 INFO sqlalchemy.engine.Engine COMMIT\n"
     ]
    },
    {
     "data": {
      "text/plain": [
       "<sqlalchemy.engine.cursor.LegacyCursorResult at 0x28f9e911760>"
      ]
     },
     "execution_count": 24,
     "metadata": {},
     "output_type": "execute_result"
    }
   ],
   "source": [
    "conn.execute(ins, droid_ids_ins_list[120000:])"
   ]
  },
  {
   "cell_type": "markdown",
   "metadata": {},
   "source": [
    "## Gather Common Statistics on the Project Data"
   ]
  },
  {
   "cell_type": "code",
   "execution_count": 25,
   "metadata": {
    "collapsed": false,
    "jupyter": {
     "outputs_hidden": false
    },
    "pycharm": {
     "name": "#%%\n"
    }
   },
   "outputs": [],
   "source": [
    "from sqlalchemy.sql import select, text"
   ]
  },
  {
   "cell_type": "code",
   "execution_count": 26,
   "metadata": {
    "collapsed": false,
    "jupyter": {
     "outputs_hidden": false
    },
    "pycharm": {
     "name": "#%%\n"
    }
   },
   "outputs": [],
   "source": [
    "s = text('select count(*) from droid_ids')"
   ]
  },
  {
   "cell_type": "code",
   "execution_count": 27,
   "metadata": {
    "collapsed": false,
    "jupyter": {
     "outputs_hidden": false
    },
    "pycharm": {
     "name": "#%%\n"
    }
   },
   "outputs": [
    {
     "name": "stdout",
     "output_type": "stream",
     "text": [
      "2021-06-23 09:43:55,555 INFO sqlalchemy.engine.Engine select count(*) from droid_ids\n",
      "2021-06-23 09:43:55,556 INFO sqlalchemy.engine.Engine [generated in 0.00066s] ()\n"
     ]
    },
    {
     "data": {
      "text/plain": [
       "[(142658,)]"
      ]
     },
     "execution_count": 27,
     "metadata": {},
     "output_type": "execute_result"
    }
   ],
   "source": [
    "conn.execute(s).fetchall()"
   ]
  },
  {
   "cell_type": "code",
   "execution_count": 33,
   "metadata": {
    "collapsed": false,
    "jupyter": {
     "outputs_hidden": false
    },
    "pycharm": {
     "name": "#%%\n"
    }
   },
   "outputs": [],
   "source": [
    "s = text('select count(distinct file_format_name) from droid_ids')"
   ]
  },
  {
   "cell_type": "code",
   "execution_count": 34,
   "metadata": {
    "collapsed": false,
    "jupyter": {
     "outputs_hidden": false
    },
    "pycharm": {
     "name": "#%%\n"
    }
   },
   "outputs": [
    {
     "name": "stdout",
     "output_type": "stream",
     "text": [
      "2021-06-23 09:46:19,302 INFO sqlalchemy.engine.Engine select count(distinct file_format_name) from droid_ids\n",
      "2021-06-23 09:46:19,302 INFO sqlalchemy.engine.Engine [cached since 142.3s ago] ()\n"
     ]
    },
    {
     "data": {
      "text/plain": [
       "[(134,)]"
      ]
     },
     "execution_count": 34,
     "metadata": {},
     "output_type": "execute_result"
    }
   ],
   "source": [
    "conn.execute(s).fetchall()"
   ]
  },
  {
   "cell_type": "code",
   "execution_count": 36,
   "metadata": {
    "collapsed": false,
    "jupyter": {
     "outputs_hidden": false
    },
    "pycharm": {
     "name": "#%%\n"
    }
   },
   "outputs": [],
   "source": [
    "s = text('select count(*) from droid_ids where file_extension = \"png\" and hash = \"\"')\n",
    "conn.execute(s).fetchall()"
   ]
  },
  {
   "cell_type": "code",
   "execution_count": 39,
   "metadata": {
    "collapsed": false,
    "jupyter": {
     "outputs_hidden": false
    },
    "pycharm": {
     "name": "#%%\n"
    }
   },
   "outputs": [
    {
     "name": "stdout",
     "output_type": "stream",
     "text": [
      "2021-06-23 09:51:07,600 INFO sqlalchemy.engine.Engine select * from droid_ids where file_extension = \"png\" and hash = \"\" limit 20\n",
      "2021-06-23 09:51:07,600 INFO sqlalchemy.engine.Engine [cached since 71.35s ago] ()\n"
     ]
    },
    {
     "data": {
      "text/plain": [
       "[(152023, 151988, 'file:/D:/2006_semester_3/Granny/Granny/Administrative/Presentation%20Material/Media/Images/buildings.png', 'D:\\\\2006_semester_3\\\\Granny\\\\Granny\\\\Administrative\\\\Presentation Material\\\\Media\\\\Images\\\\buildings.png', 'buildings.png', 'Signature', 'Done', 1107695, 'File', 'png', '2006-08-30 17:37:10.000000', 'false', '', 1, 'fmt/11', 'image/png', 'Portable Network Graphics', '1.0', 'granny'),\n",
       " (152024, 151988, 'file:/D:/2006_semester_3/Granny/Granny/Administrative/Presentation%20Material/Media/Images/chair.png', 'D:\\\\2006_semester_3\\\\Granny\\\\Granny\\\\Administrative\\\\Presentation Material\\\\Media\\\\Images\\\\chair.png', 'chair.png', 'Signature', 'Done', 1742437, 'File', 'png', '2006-09-21 14:09:33.000000', 'false', '', 1, 'fmt/11', 'image/png', 'Portable Network Graphics', '1.0', 'granny'),\n",
       " (152026, 151988, 'file:/D:/2006_semester_3/Granny/Granny/Administrative/Presentation%20Material/Media/Images/grass.png', 'D:\\\\2006_semester_3\\\\Granny\\\\Granny\\\\Administrative\\\\Presentation Material\\\\Media\\\\Images\\\\grass.png', 'grass.png', 'Signature', 'Done', 668723, 'File', 'png', '2006-09-06 11:24:56.000000', 'false', '', 1, 'fmt/11', 'image/png', 'Portable Network Graphics', '1.0', 'granny'),\n",
       " (152027, 151988, 'file:/D:/2006_semester_3/Granny/Granny/Administrative/Presentation%20Material/Media/Images/hairV1-1.png', 'D:\\\\2006_semester_3\\\\Granny\\\\Granny\\\\Administrative\\\\Presentation Material\\\\Media\\\\Images\\\\hairV1-1.png', 'hairV1-1.png', 'Signature', 'Done', 399452, 'File', 'png', '2006-09-08 14:42:14.000000', 'false', '', 1, 'fmt/11', 'image/png', 'Portable Network Graphics', '1.0', 'granny'),\n",
       " (152028, 151988, 'file:/D:/2006_semester_3/Granny/Granny/Administrative/Presentation%20Material/Media/Images/hairV1-2.png', 'D:\\\\2006_semester_3\\\\Granny\\\\Granny\\\\Administrative\\\\Presentation Material\\\\Media\\\\Images\\\\hairV1-2.png', 'hairV1-2.png', 'Signature', 'Done', 359047, 'File', 'png', '2006-09-08 14:43:17.000000', 'false', '', 1, 'fmt/11', 'image/png', 'Portable Network Graphics', '1.0', 'granny'),\n",
       " (152029, 151988, 'file:/D:/2006_semester_3/Granny/Granny/Administrative/Presentation%20Material/Media/Images/hairV1-3.png', 'D:\\\\2006_semester_3\\\\Granny\\\\Granny\\\\Administrative\\\\Presentation Material\\\\Media\\\\Images\\\\hairV1-3.png', 'hairV1-3.png', 'Signature', 'Done', 396466, 'File', 'png', '2006-09-08 14:43:31.000000', 'false', '', 1, 'fmt/11', 'image/png', 'Portable Network Graphics', '1.0', 'granny'),\n",
       " (152096, 152095, 'file:/D:/2006_semester_3/Granny/Granny/Animation/Shots/00/Frames/00_Shot1.png', 'D:\\\\2006_semester_3\\\\Granny\\\\Granny\\\\Animation\\\\Shots\\\\00\\\\Frames\\\\00_Shot1.png', '00_Shot1.png', 'Signature', 'Done', 167727, 'File', 'png', '2006-12-04 20:06:40.000000', 'false', '', 1, 'fmt/11', 'image/png', 'Portable Network Graphics', '1.0', 'granny'),\n",
       " (152097, 152095, 'file:/D:/2006_semester_3/Granny/Granny/Animation/Shots/00/Frames/00_Shot10.png', 'D:\\\\2006_semester_3\\\\Granny\\\\Granny\\\\Animation\\\\Shots\\\\00\\\\Frames\\\\00_Shot10.png', '00_Shot10.png', 'Signature', 'Done', 167708, 'File', 'png', '2006-12-04 20:06:42.000000', 'false', '', 1, 'fmt/11', 'image/png', 'Portable Network Graphics', '1.0', 'granny'),\n",
       " (152098, 152095, 'file:/D:/2006_semester_3/Granny/Granny/Animation/Shots/00/Frames/00_Shot100.png', 'D:\\\\2006_semester_3\\\\Granny\\\\Granny\\\\Animation\\\\Shots\\\\00\\\\Frames\\\\00_Shot100.png', '00_Shot100.png', 'Signature', 'Done', 170750, 'File', 'png', '2006-12-04 20:07:01.000000', 'false', '', 1, 'fmt/11', 'image/png', 'Portable Network Graphics', '1.0', 'granny'),\n",
       " (152099, 152095, 'file:/D:/2006_semester_3/Granny/Granny/Animation/Shots/00/Frames/00_Shot101.png', 'D:\\\\2006_semester_3\\\\Granny\\\\Granny\\\\Animation\\\\Shots\\\\00\\\\Frames\\\\00_Shot101.png', '00_Shot101.png', 'Signature', 'Done', 169180, 'File', 'png', '2006-12-04 20:07:01.000000', 'false', '', 1, 'fmt/11', 'image/png', 'Portable Network Graphics', '1.0', 'granny'),\n",
       " (152100, 152095, 'file:/D:/2006_semester_3/Granny/Granny/Animation/Shots/00/Frames/00_Shot102.png', 'D:\\\\2006_semester_3\\\\Granny\\\\Granny\\\\Animation\\\\Shots\\\\00\\\\Frames\\\\00_Shot102.png', '00_Shot102.png', 'Signature', 'Done', 170391, 'File', 'png', '2006-12-04 20:07:02.000000', 'false', '', 1, 'fmt/11', 'image/png', 'Portable Network Graphics', '1.0', 'granny'),\n",
       " (152101, 152095, 'file:/D:/2006_semester_3/Granny/Granny/Animation/Shots/00/Frames/00_Shot103.png', 'D:\\\\2006_semester_3\\\\Granny\\\\Granny\\\\Animation\\\\Shots\\\\00\\\\Frames\\\\00_Shot103.png', '00_Shot103.png', 'Signature', 'Done', 169698, 'File', 'png', '2006-12-04 20:07:02.000000', 'false', '', 1, 'fmt/11', 'image/png', 'Portable Network Graphics', '1.0', 'granny'),\n",
       " (152102, 152095, 'file:/D:/2006_semester_3/Granny/Granny/Animation/Shots/00/Frames/00_Shot104.png', 'D:\\\\2006_semester_3\\\\Granny\\\\Granny\\\\Animation\\\\Shots\\\\00\\\\Frames\\\\00_Shot104.png', '00_Shot104.png', 'Signature', 'Done', 170103, 'File', 'png', '2006-12-04 20:07:02.000000', 'false', '', 1, 'fmt/11', 'image/png', 'Portable Network Graphics', '1.0', 'granny'),\n",
       " (152103, 152095, 'file:/D:/2006_semester_3/Granny/Granny/Animation/Shots/00/Frames/00_Shot105.png', 'D:\\\\2006_semester_3\\\\Granny\\\\Granny\\\\Animation\\\\Shots\\\\00\\\\Frames\\\\00_Shot105.png', '00_Shot105.png', 'Signature', 'Done', 169472, 'File', 'png', '2006-12-04 20:07:02.000000', 'false', '', 1, 'fmt/11', 'image/png', 'Portable Network Graphics', '1.0', 'granny'),\n",
       " (152104, 152095, 'file:/D:/2006_semester_3/Granny/Granny/Animation/Shots/00/Frames/00_Shot106.png', 'D:\\\\2006_semester_3\\\\Granny\\\\Granny\\\\Animation\\\\Shots\\\\00\\\\Frames\\\\00_Shot106.png', '00_Shot106.png', 'Signature', 'Done', 168762, 'File', 'png', '2006-12-04 20:07:02.000000', 'false', '', 1, 'fmt/11', 'image/png', 'Portable Network Graphics', '1.0', 'granny'),\n",
       " (152105, 152095, 'file:/D:/2006_semester_3/Granny/Granny/Animation/Shots/00/Frames/00_Shot107.png', 'D:\\\\2006_semester_3\\\\Granny\\\\Granny\\\\Animation\\\\Shots\\\\00\\\\Frames\\\\00_Shot107.png', '00_Shot107.png', 'Signature', 'Done', 169263, 'File', 'png', '2006-12-04 20:07:03.000000', 'false', '', 1, 'fmt/11', 'image/png', 'Portable Network Graphics', '1.0', 'granny'),\n",
       " (152106, 152095, 'file:/D:/2006_semester_3/Granny/Granny/Animation/Shots/00/Frames/00_Shot108.png', 'D:\\\\2006_semester_3\\\\Granny\\\\Granny\\\\Animation\\\\Shots\\\\00\\\\Frames\\\\00_Shot108.png', '00_Shot108.png', 'Signature', 'Done', 169080, 'File', 'png', '2006-12-04 20:07:03.000000', 'false', '', 1, 'fmt/11', 'image/png', 'Portable Network Graphics', '1.0', 'granny'),\n",
       " (152107, 152095, 'file:/D:/2006_semester_3/Granny/Granny/Animation/Shots/00/Frames/00_Shot109.png', 'D:\\\\2006_semester_3\\\\Granny\\\\Granny\\\\Animation\\\\Shots\\\\00\\\\Frames\\\\00_Shot109.png', '00_Shot109.png', 'Signature', 'Done', 169375, 'File', 'png', '2006-12-04 20:07:03.000000', 'false', '', 1, 'fmt/11', 'image/png', 'Portable Network Graphics', '1.0', 'granny'),\n",
       " (152108, 152095, 'file:/D:/2006_semester_3/Granny/Granny/Animation/Shots/00/Frames/00_Shot11.png', 'D:\\\\2006_semester_3\\\\Granny\\\\Granny\\\\Animation\\\\Shots\\\\00\\\\Frames\\\\00_Shot11.png', '00_Shot11.png', 'Signature', 'Done', 167913, 'File', 'png', '2006-12-04 20:06:42.000000', 'false', '', 1, 'fmt/11', 'image/png', 'Portable Network Graphics', '1.0', 'granny'),\n",
       " (152109, 152095, 'file:/D:/2006_semester_3/Granny/Granny/Animation/Shots/00/Frames/00_Shot110.png', 'D:\\\\2006_semester_3\\\\Granny\\\\Granny\\\\Animation\\\\Shots\\\\00\\\\Frames\\\\00_Shot110.png', '00_Shot110.png', 'Signature', 'Done', 169615, 'File', 'png', '2006-12-04 20:07:03.000000', 'false', '', 1, 'fmt/11', 'image/png', 'Portable Network Graphics', '1.0', 'granny')]"
      ]
     },
     "execution_count": 39,
     "metadata": {},
     "output_type": "execute_result"
    }
   ],
   "source": [
    "s = text('select * from droid_ids where file_extension = \"png\" and hash = \"\" limit 20')\n",
    "conn.execute(s).fetchall()"
   ]
  },
  {
   "cell_type": "markdown",
   "metadata": {},
   "source": [
    "select file_format_name, count(*) from droid_ids group by file_format_name order by count(*) desc limit 20;"
   ]
  },
  {
   "cell_type": "markdown",
   "metadata": {
    "pycharm": {
     "name": "#%% md\n"
    }
   },
   "source": [
    "select file_format_name, file_format_version, file_extension, sum(size) from droid_ids where project_name in ('granny','skyrates','cert','jukebox') group by file_format_name, file_format_version order by sum(size) desc limit 20;\n",
    "\n",
    "\n"
   ]
  }
 ],
 "metadata": {
  "kernelspec": {
   "display_name": "Python 3",
   "language": "python",
   "name": "python3"
  },
  "language_info": {
   "codemirror_mode": {
    "name": "ipython",
    "version": 3
   },
   "file_extension": ".py",
   "mimetype": "text/x-python",
   "name": "python",
   "nbconvert_exporter": "python",
   "pygments_lexer": "ipython3",
   "version": "3.9.1"
  }
 },
 "nbformat": 4,
 "nbformat_minor": 4
}

{
 "cells": [
  {
   "cell_type": "code",
   "execution_count": 1,
   "id": "e8961433-87c6-47e9-b503-8505b787e0dc",
   "metadata": {
    "pycharm": {
     "is_executing": true
    }
   },
   "outputs": [
    {
     "name": "stdout",
     "output_type": "stream",
     "text": [
      "Using database file: Database/ETC_Droid_DB_20211108110401.db\n"
     ]
    }
   ],
   "source": [
    "# Do all imports for script. If this fails, you need to import more\n",
    "import json\n",
    "import matplotlib.pyplot as plt\n",
    "import numpy as np\n",
    "import pandas as pd\n",
    "# from jupyter_datatables import init_datatables_mode\n",
    "from csv import DictReader\n",
    "import logging\n",
    "from os import listdir\n",
    "from datetime import datetime\n",
    "from sqlalchemy import create_engine\n",
    "from sqlalchemy import Table, Column, Integer, String, DateTime, Date, MetaData, ForeignKey\n",
    "from sqlalchemy.sql import text\n",
    "from time import time\n",
    "import hashlib\n",
    "\n",
    "def find_database():\n",
    "    names = []\n",
    "    for file in listdir('Database'):\n",
    "        if file.startswith('ETC_Droid_DB_'):\n",
    "            names.append(f'Database/{file}')\n",
    "    if len(names) == 0:\n",
    "        time = datetime.now()\n",
    "        return f'ETC_Droid_DB_{time.strftime(\"%Y%m%d%H%M%S\")}.db'\n",
    "    else:\n",
    "        return names[-1]\n",
    "\n",
    "print(f'Using database file: {find_database()}')\n",
    "    \n",
    "# Enable logging\n",
    "handler = logging.FileHandler('sql.log')\n",
    "handler.setLevel(logging.DEBUG)\n",
    "logging.getLogger('sqlalchemy').addHandler(handler)\n",
    "\n",
    "# Connect to the test.db sqlite database generated in the other file\n",
    "engine = create_engine(f\"sqlite:///{find_database()}\", echo=False)\n",
    "conn = engine.connect()"
   ]
  },
  {
   "cell_type": "code",
   "execution_count": 2,
   "id": "0b84c901-1908-4bc1-9694-d73b39087644",
   "metadata": {},
   "outputs": [],
   "source": [
    "def output_as_markdown_table(headers, values, center=True):\n",
    "    # Get the amount of padding to add\n",
    "    sizes = []\n",
    "    for header in headers:\n",
    "        sizes.append(len(header))\n",
    "    for row in values:\n",
    "        for index, value in enumerate(row):\n",
    "            sizes[index] = max(sizes[index], len(str(value)))\n",
    "    \n",
    "    # Print the headers\n",
    "    print('|', end='')\n",
    "    for index, header in enumerate(headers):\n",
    "        if center:\n",
    "            print(f' {str(header).center(sizes[index])} |', end='')\n",
    "        else:\n",
    "            print(f' {str(header).ljust(sizes[index])} |', end='')\n",
    "    print()\n",
    "    \n",
    "    # Print the separation row\n",
    "    print('|', end='')\n",
    "    for size in sizes:\n",
    "        string = ''\n",
    "        for x in range(size):\n",
    "            string += '-'\n",
    "        print(f' {string} |', end='')\n",
    "    print()\n",
    "    \n",
    "    # Print the values\n",
    "    for row in values:\n",
    "        print('|', end='')\n",
    "        for index, value in enumerate(row):\n",
    "            if center:\n",
    "                print(f' {str(value).center(sizes[index])} |', end='')\n",
    "            else:\n",
    "                print(f' {str(value).ljust(sizes[index])} |', end='')\n",
    "        print()\n",
    "\n",
    "\n",
    "def SequenceBuilder(listA):\n",
    "    length = len(listA)\n",
    "    sequence = []\n",
    "    for i in range(length):\n",
    "        sequence.append(i)\n",
    "    return sequence\n",
    "\n",
    "\n",
    "def queryTable(headers,values):\n",
    "    sequence = SequenceBuilder(headers)\n",
    "    #plt.rcParams['figure.figsize'] = [20, 2]\n",
    "    #plt.rcParams['figure.dpi'] = 900\n",
    "    fig, ax = plt.subplots(1,1)\n",
    "    ax.axis('off')\n",
    "\n",
    "    table = ax.table(cellText=values,\n",
    "                     colLabels=headers,\n",
    "                     cellLoc='left',\n",
    "                     rowLoc='center',\n",
    "                     loc=\"center\")\n",
    "\n",
    "    table.scale(1,2)\n",
    "    table.auto_set_column_width(sequence)\n",
    "\n",
    "    plt.show()"
   ]
  },
  {
   "cell_type": "markdown",
   "id": "c6c2b8fc-dc25-4705-80bd-bc82f80ebd7b",
   "metadata": {},
   "source": [
    "# Utility Functions"
   ]
  },
  {
   "cell_type": "code",
   "execution_count": 3,
   "id": "a0ad2aeb-5e6b-4780-956c-064fbfb4b0a2",
   "metadata": {},
   "outputs": [
    {
     "name": "stdout",
     "output_type": "stream",
     "text": [
      "10,493,160\n",
      "True\n"
     ]
    }
   ],
   "source": [
    "def format_number(number):\n",
    "    number_string = str(number)\n",
    "    \n",
    "    output_string = ''\n",
    "    while len(number_string) > 0:\n",
    "        output_string = ',' + number_string[-3:] + output_string\n",
    "        number_string = number_string[:-3]\n",
    "    return output_string[1:]\n",
    "\n",
    "print(format_number(10493160))\n",
    "print(format_number(10493160) == '10,493,160')"
   ]
  },
  {
   "cell_type": "markdown",
   "id": "e4038f0b-2acd-46c0-b5f1-5f107839c900",
   "metadata": {},
   "source": [
    "## 'droid_ids' Table Contents\n",
    "Droid profile output, ids are tied to unique files\n",
    "### Header Information\n",
    "1.  'id' -- A unqiue id number identifying this specific file\n",
    "2.  'parent_id' -- The unqiue id number of the parent folder\n",
    "3.  'uri' -- A uri that directs to the semester relative file location. Ex: file://2008_semester_1/wiixercise/file.zip\n",
    "4.  'file_path' -- The semester relative path of this file. Ex.: /2008_semester_1/wiixercise/file.zip\n",
    "5.  'filename' -- The name of this file inclusing the extension: file.zip\n",
    "6.  'id_method' -- The method that was used to identify the file_format_name. Extension, Container or Signature\n",
    "7.  'status' -- The status of the scanning of this file and its children. Done or Empty\n",
    "8.  'size' -- The size of this file in bytes. If folder, then the size is blank\n",
    "9.  'type' -- The type of item. File or Folder\n",
    "10. 'file_extension' -- The file exenstion of the file. Blank for a folder\n",
    "11. 'last_modified' -- The modification time of the file or folder\n",
    "12. 'ext_mis_warning' -- True if a file extension does not match the binary signature of the file. False otherwise\n",
    "13. 'hash' -- The sha256 hash of the file\n",
    "14. 'file_format_count' -- The count of attached file format matches\n",
    "15. 'project_name' -- The name of the project from ETC Past Projects Listing file. Will start with 'Unverified Name:' if a match could not be found."
   ]
  },
  {
   "cell_type": "markdown",
   "id": "2c9ec868-7eaf-4d2f-847a-6bea98f99999",
   "metadata": {},
   "source": [
    "## 'droid_formats' Table Contents\n",
    "1. 'id' -- A unqiue id that identifies this specific format\n",
    "2. 'file_id' -- The if of the file that this format belongs to.\n",
    "3. 'pronom_id' -- PRONOM fmt number\n",
    "4. 'mime_type' -- The detected MIME type. Blank if not found.\n",
    "5. 'file_format_name' -- PRONOM Identified File Format \n",
    "6. 'file_format_version' -- PRONOM Identified File Version"
   ]
  },
  {
   "cell_type": "markdown",
   "id": "7110ea2a-5c7c-4c50-97df-561788bb1aa6",
   "metadata": {},
   "source": [
    "### (Stats 1) Total Amounts Related to Files\n",
    "\n",
    "Current DB Hash (11/08/2021): d4e91d4ec9b2187ad30fee77e9510842\n",
    "\n",
    "1. Total Files: 10,493,160\n",
    "2. Total Size: 16,082,869,474,251 bytes\n",
    "3. Total File Extensions: 4,982\n",
    "4. Total File Formats: 715\n",
    "\n",
    "Current DB Hash (7/26/2021): c3c39eb0c842c852ee0517686d72772f\n",
    "\n",
    "1. Total Files: 10,493,160\n",
    "2. Total Size: 16,082,869,474,251 bytes\n",
    "3. Total File Extensions: 4,982\n",
    "4. Total File Formats: 10,580,350\n",
    "\n",
    "Current DB Hash (7/22/2021): d3d9980c6153ef38f27ff46f9b2d356a\n",
    "\n",
    "1. Total Files: 10,498,189\n",
    "2. Total File Extensions: 4,982\n",
    "\n",
    "Current DB Hash (7/20/2021): 5b838ed892dae08217083be9022ccd4e\n",
    "\n",
    "1. Total Files: 10,498,189\n",
    "2. Total File Extensions: 4,982\n",
    "\n",
    "Current DB Hash (7/14/2021): 7e97ac65e748e1b0a5753bc95464a600 \n",
    "\n",
    "1. Total Files: 10,444,003\n",
    "2. Total File Extensions: 4,977"
   ]
  },
  {
   "cell_type": "markdown",
   "id": "020d16e2-d80e-49da-95c0-99e2a190a4d2",
   "metadata": {},
   "source": [
    "#### Current DB Hash Check"
   ]
  },
  {
   "cell_type": "code",
   "execution_count": 4,
   "id": "e2685753-7a35-4b43-aaf8-58706486bc7f",
   "metadata": {},
   "outputs": [],
   "source": [
    "current_db_hash = \"d4e91d4ec9b2187ad30fee77e9510842\""
   ]
  },
  {
   "cell_type": "code",
   "execution_count": 5,
   "id": "31a38527-950f-4b5b-9b06-865ed5071476",
   "metadata": {},
   "outputs": [
    {
     "name": "stdout",
     "output_type": "stream",
     "text": [
      "d4e91d4ec9b2187ad30fee77e9510842\n"
     ]
    }
   ],
   "source": [
    "BLOCKSIZE = 65536\n",
    "hasher = hashlib.md5()\n",
    "with open(find_database(), 'rb') as afile:\n",
    "    buf = afile.read(BLOCKSIZE)\n",
    "    while len(buf) > 0:\n",
    "        hasher.update(buf)\n",
    "        buf = afile.read(BLOCKSIZE)\n",
    "\n",
    "current_db_check_hash = hasher.hexdigest()\n",
    "print(current_db_check_hash)"
   ]
  },
  {
   "cell_type": "code",
   "execution_count": 6,
   "id": "67773b1e-988d-4826-9304-fd567ba35089",
   "metadata": {},
   "outputs": [
    {
     "name": "stdout",
     "output_type": "stream",
     "text": [
      "DB is current\n"
     ]
    }
   ],
   "source": [
    "if current_db_check_hash == current_db_hash:\n",
    "    print(\"DB is current\")\n",
    "else:\n",
    "    print(\"DB is not current\")"
   ]
  },
  {
   "cell_type": "markdown",
   "id": "20ccf8c3-476c-4d4c-a7e3-62b7a19480db",
   "metadata": {},
   "source": [
    "#### Queries Run For Stats 1 Listing "
   ]
  },
  {
   "cell_type": "code",
   "execution_count": 7,
   "id": "49a7eeb1-2be5-4ead-b526-4db0d4906aa9",
   "metadata": {
    "collapsed": false,
    "jupyter": {
     "outputs_hidden": false
    },
    "pycharm": {
     "name": "#%%\n"
    }
   },
   "outputs": [
    {
     "name": "stdout",
     "output_type": "stream",
     "text": [
      "1. Total Files: 10,493,160\n",
      "2. Total Size: 16,082,869,474,251 bytes\n",
      "3. Total File Extensions: 4,982\n",
      "4. Total File Formats: 715\n"
     ]
    }
   ],
   "source": [
    "file_query = \"select count(*) from droid_ids\"\n",
    "size_query = 'select sum(size) from droid_ids'\n",
    "extension_query = \"select count(distinct file_extension) from droid_ids\"\n",
    "format_query = 'select count() from droid_formats'\n",
    "\n",
    "total_files = conn.execute(text(file_query)).fetchone()[0]\n",
    "total_size = conn.execute(text(size_query)).fetchone()[0]\n",
    "total_extensions = conn.execute(text(extension_query)).fetchone()[0]\n",
    "total_formats = conn.execute(text(format_query)).fetchone()[0]\n",
    "\n",
    "print(f'1. Total Files: {format_number(total_files)}')\n",
    "print(f'2. Total Size: {format_number(total_size)} bytes')\n",
    "print(f'3. Total File Extensions: {format_number(total_extensions)}')\n",
    "print(f'4. Total File Formats: {format_number(total_formats)}')\n",
    "\n",
    "del file_query\n",
    "del size_query\n",
    "del extension_query\n",
    "del format_query\n",
    "del total_files\n",
    "del total_size\n",
    "del total_extensions\n",
    "del total_formats"
   ]
  },
  {
   "cell_type": "markdown",
   "id": "47cf68f5-4761-4369-b115-b4fbd8c21701",
   "metadata": {},
   "source": [
    "### Define your queries below"
   ]
  },
  {
   "cell_type": "code",
   "execution_count": 2,
   "id": "2fe85a15-0d88-44d5-a935-d777aec85f01",
   "metadata": {},
   "outputs": [],
   "source": [
    "# Find the number of unhashed PNG files\n",
    "query = 'select count(*) from droid_ids where file_extension = \"png\" and hash = \"\"'"
   ]
  },
  {
   "cell_type": "code",
   "execution_count": 3,
   "id": "a5b7009d-c125-4a1f-aa48-3ce1fe339146",
   "metadata": {},
   "outputs": [],
   "source": [
    "# Find the number of distinct file formats\n",
    "query = 'select count(distinct file_format_name) from droid_formats'"
   ]
  },
  {
   "cell_type": "code",
   "execution_count": 41,
   "id": "c5666719-8bcd-4390-8512-2783e250c492",
   "metadata": {},
   "outputs": [],
   "source": [
    "# Select the distinct file format names\n",
    "query = 'select distinct file_format_name from droid_formats'"
   ]
  },
  {
   "cell_type": "code",
   "execution_count": 10,
   "id": "4b7a422a-d308-413f-a69e-012c26da8c30",
   "metadata": {},
   "outputs": [],
   "source": [
    "# Find the 20 most common file formats and their occurences\n",
    "query = 'select file_format_name, count() from droid_formats group by file_format_name order by count() desc limit 20'"
   ]
  },
  {
   "cell_type": "code",
   "execution_count": 87,
   "id": "439592a0-db15-4612-a6ed-b70d96a77e45",
   "metadata": {},
   "outputs": [],
   "source": [
    "# Find the files that have more than one format\n",
    "query = 'select droid_ids.id, filename, file_extension, size from droid_ids join droid_formats on droid_ids.id = droid_formats.file_id group by file_id having count(file_id) > 1 order by droid_ids.size desc'"
   ]
  },
  {
   "cell_type": "code",
   "execution_count": 15,
   "id": "a42749ac-76a7-4f46-b1d8-09f991180436",
   "metadata": {},
   "outputs": [],
   "source": [
    "# Find the count of unhashed files\n",
    "query = 'select * from droid_ids where hash = \"\" and type != \"Folder\"'"
   ]
  },
  {
   "cell_type": "code",
   "execution_count": 17,
   "id": "af9ad84e-2452-49f5-a536-1b01927be9d0",
   "metadata": {},
   "outputs": [],
   "source": [
    "# Find the count of unhashed files and folders\n",
    "query = 'select count() from droid_ids where hash = \"\"'"
   ]
  },
  {
   "cell_type": "code",
   "execution_count": 19,
   "id": "1d15a7bb-1f34-4d5f-b775-36ed285fbbba",
   "metadata": {},
   "outputs": [],
   "source": [
    "# Find the count of folders\n",
    "query = 'select count() from droid_ids where type = \"Folder\"'"
   ]
  },
  {
   "cell_type": "code",
   "execution_count": 20,
   "id": "a03835e5-01e0-4812-b30f-98d5d31e6e14",
   "metadata": {},
   "outputs": [],
   "source": [
    "# Count the number of total records\n",
    "query = 'select count() from droid_ids'"
   ]
  },
  {
   "cell_type": "code",
   "execution_count": 38,
   "id": "eeb29910-0b18-46f0-a19b-7739ddc01098",
   "metadata": {},
   "outputs": [],
   "source": [
    "# Find all AVI files and order them by size\n",
    "query = 'select min(droid_ids.size), (sum(droid_ids.size) / count()) / (1024 * 1024), max(droid_ids.size) / (1024 * 1024 * 1024) from droid_ids join droid_formats on droid_ids.id = droid_formats.file_id where (file_extension=\"avi\" or file_extension=\"mp4\") order by size desc'"
   ]
  },
  {
   "cell_type": "code",
   "execution_count": 145,
   "id": "6c035345-5dfb-4e30-8253-2049a97edcec",
   "metadata": {},
   "outputs": [],
   "source": [
    "# List the size of all the projects in descending total size\n",
    "query = 'select filename, file_path, sum(size) from droid_ids group by project_name order by size desc limit 100'"
   ]
  },
  {
   "cell_type": "code",
   "execution_count": 32,
   "id": "c618a1ce-3e8b-4662-a189-cc8e095b5d33",
   "metadata": {},
   "outputs": [],
   "source": [
    "# Find the Most occuring file extensions and their average sizes\n",
    "query = 'select file_extension, sum(size), count(), sum(size) / count() as \"average\" from droid_ids join droid_formats on droid_ids.id = droid_formats.file_id where type != \"Folder\" group by file_extension order by count() desc'"
   ]
  },
  {
   "cell_type": "code",
   "execution_count": 26,
   "id": "1081df79-e3ad-4be6-b02e-222c95a4df9e",
   "metadata": {},
   "outputs": [],
   "source": [
    "# Look at the most occuring files's hashes and their size\n",
    "query = 'select avg(size), hash, count() from droid_formats join droid_ids on droid_ids.id = droid_formats.file_id where type = \"File\" group by hash order by count() desc limit 20'"
   ]
  },
  {
   "cell_type": "code",
   "execution_count": 24,
   "id": "7d0e4b61-3e1c-439a-a84a-20dfd55c12f8",
   "metadata": {},
   "outputs": [],
   "source": [
    "# Grab any projects that have the default team document, using size. TODO: Make this filter by hash\n",
    "query = 'select count() from (select project_name from droid_ids where (filename=\"Team.doc\" or filename=\"Team.docx\") and (size=599 or size=37407) group by project_name)'"
   ]
  },
  {
   "cell_type": "code",
   "execution_count": 5,
   "id": "6197e5e6-76c8-4a2b-b360-1f9972e00061",
   "metadata": {},
   "outputs": [],
   "source": [
    "# Find all of the projects that do not match the past projects listing\n",
    "query = 'select project_name, file_path from droid_ids where project_name like \"Unverified Name%\" group by project_name'"
   ]
  },
  {
   "cell_type": "code",
   "execution_count": 66,
   "id": "7d330c1b-2897-4854-a3c6-364422c8eaa6",
   "metadata": {},
   "outputs": [],
   "source": [
    "# File Format Percentage Throughout All Projects for the matplotlib code\n",
    "s = text('select file_format_name, count() from droid_ids join droid_formats on droid_ids.id = droid_formats.file_id where type = \"File\" group by file_format_name order by count() desc')\n",
    "file_format_name_population = conn.execute(s).fetchall()"
   ]
  },
  {
   "cell_type": "code",
   "execution_count": 3,
   "id": "cf707137-2d25-44b9-8239-760d758f095b",
   "metadata": {},
   "outputs": [],
   "source": [
    "# Recreation of table 1 from original analysis. Top 20 extensions by count\n",
    "query = 'select file_extension, file_format_name, file_format_version, count() from droid_ids join droid_formats on droid_ids.id=droid_formats.file_id where type=\"File\" and file_format_name != \"\" group by file_extension, file_format_name, file_format_version order by count() desc limit 20'\n",
    "table_headers = ['Extension', 'File Format', 'Format Version', 'Count']"
   ]
  },
  {
   "cell_type": "code",
   "execution_count": 1,
   "id": "38b6fbb8-7152-45e7-86b0-303b0ceb5efc",
   "metadata": {},
   "outputs": [],
   "source": [
    "# Recreation of table 2 from original analysis. Top 20 known file formats by aggregrate size\n",
    "query = 'select file_format_name, file_format_version, round(sum(size) / 1073741824.0, 2) from droid_ids join droid_formats on droid_ids.id=droid_formats.file_id where type=\"File\" and file_format_name != \"\" group by file_format_name, file_format_version order by sum(size) desc limit 20'\n",
    "table_headers = ['File Format Name', 'Version', 'Size (GB)']"
   ]
  },
  {
   "cell_type": "code",
   "execution_count": 14,
   "id": "5b5a035b-2f02-4d4b-996b-b63c750334bd",
   "metadata": {},
   "outputs": [],
   "source": [
    "query = 'select sum(size), count() from (select size, hash from droid_ids where (type=\"File\" or type=\"Container\") group by hash)'"
   ]
  },
  {
   "cell_type": "code",
   "execution_count": 4,
   "id": "9f7fac07-5811-4ae3-9519-51803f059943",
   "metadata": {},
   "outputs": [],
   "source": [
    "query = 'select * from (select count() as count, sum(size) as size, filename, file_path from droid_ids group by file_path, type, hash order by count desc) where count > 1'"
   ]
  },
  {
   "cell_type": "code",
   "execution_count": 12,
   "id": "d2daf794-661a-427b-8ec4-1373cc6ed289",
   "metadata": {},
   "outputs": [],
   "source": [
    "query = 'select count() from droid_ids where file_path=\"/\"'"
   ]
  },
  {
   "cell_type": "code",
   "execution_count": 12,
   "id": "1699cd71-a5da-44c4-bfff-83d201148324",
   "metadata": {},
   "outputs": [],
   "source": [
    "query = 'select type from droid_ids group by type'"
   ]
  },
  {
   "cell_type": "code",
   "execution_count": 8,
   "id": "ab4d7f2a-7c4b-481a-a1ac-4f622ac2774f",
   "metadata": {},
   "outputs": [],
   "source": [
    "query = 'select count() from droid_ids where (type=\"File\" or type=\"Container\")'"
   ]
  },
  {
   "cell_type": "code",
   "execution_count": 3,
   "id": "a0da6228-143a-4e99-b7d1-48fbede83e7e",
   "metadata": {},
   "outputs": [],
   "source": [
    "query = 'select project_name, project_year, project_semester from droid_ids group by project_name, project_year order by project_year desc, project_semester desc'\n"
   ]
  },
  {
   "cell_type": "code",
   "execution_count": 8,
   "id": "2c20dacd",
   "metadata": {
    "collapsed": false,
    "jupyter": {
     "outputs_hidden": false
    },
    "pycharm": {
     "name": "#%%\n"
    }
   },
   "outputs": [],
   "source": [
    "query = 'select count() from (select file_extension from droid_ids where file_format_count=0 group by file_extension)'"
   ]
  },
  {
   "cell_type": "code",
   "execution_count": 10,
   "id": "aac1c4d8",
   "metadata": {
    "collapsed": false,
    "jupyter": {
     "outputs_hidden": false
    },
    "pycharm": {
     "name": "#%%\n"
    }
   },
   "outputs": [],
   "source": [
    "query = 'select count() from (select file_extension from droid_ids group by file_extension)'\n"
   ]
  },
  {
   "cell_type": "code",
   "execution_count": 12,
   "id": "2f15e6b4",
   "metadata": {
    "collapsed": false,
    "jupyter": {
     "outputs_hidden": false
    },
    "pycharm": {
     "name": "#%%\n"
    }
   },
   "outputs": [],
   "source": [
    "query = 'select count(distinct file_format_name) from droid_formats'"
   ]
  },
  {
   "cell_type": "code",
   "execution_count": 3,
   "id": "76cf3ccd",
   "metadata": {
    "collapsed": false,
    "jupyter": {
     "outputs_hidden": false
    },
    "pycharm": {
     "name": "#%%\n"
    }
   },
   "outputs": [],
   "source": [
    "query = 'select file_extension, count() from droid_ids where type != \"Folder\" and file_format_count=0 group by file_extension order by count() desc limit 100'\n",
    "table_headers = ['File Extension', 'Count']"
   ]
  },
  {
   "cell_type": "code",
   "execution_count": 10,
   "id": "30cc764b",
   "metadata": {
    "collapsed": false,
    "jupyter": {
     "outputs_hidden": false
    },
    "pycharm": {
     "name": "#%%\n"
    }
   },
   "outputs": [],
   "source": [
    "query = 'select file_path from droid_ids where type!=\"Folder\" and file_format_count=0'"
   ]
  },
  {
   "cell_type": "code",
   "execution_count": 6,
   "id": "cac9b9a2",
   "metadata": {
    "collapsed": false,
    "jupyter": {
     "outputs_hidden": false
    },
    "pycharm": {
     "name": "#%%\n"
    }
   },
   "outputs": [],
   "source": [
    "query = 'query = \"select count() from droid_formats where file_format_name != \"\"\"'"
   ]
  },
  {
   "cell_type": "code",
   "execution_count": 30,
   "id": "12e083e7",
   "metadata": {
    "collapsed": false,
    "jupyter": {
     "outputs_hidden": false
    },
    "pycharm": {
     "name": "#%%\n"
    }
   },
   "outputs": [],
   "source": [
    "query = 'select * from droid_ids join droid_formats on droid_ids.id=droid_foramts.file_id where file_path=\"/2007_semester_3/Art Studio/RenderFarm/LBE/ErieShotFive_1_depth.png\" '"
   ]
  },
  {
   "cell_type": "code",
   "execution_count": 32,
   "id": "08e1cb20",
   "metadata": {
    "collapsed": false,
    "jupyter": {
     "outputs_hidden": false
    },
    "pycharm": {
     "name": "#%%\n"
    }
   },
   "outputs": [],
   "source": [
    "query = 'select * from droid_ids where file_extension=\"lwf\"'"
   ]
  },
  {
   "cell_type": "code",
   "execution_count": null,
   "id": "64bd672a",
   "metadata": {
    "collapsed": false,
    "jupyter": {
     "outputs_hidden": false
    },
    "pycharm": {
     "is_executing": true,
     "name": "#%%\n"
    }
   },
   "outputs": [],
   "source": [
    "query = 'select file_extension, file_path from droid_ids where file_format_count=0 and project_name=\"Interact\"'"
   ]
  },
  {
   "cell_type": "code",
   "execution_count": 19,
   "id": "21366283-3b19-4e1e-807d-4c37e75ed74c",
   "metadata": {
    "collapsed": false,
    "jupyter": {
     "outputs_hidden": false
    },
    "pycharm": {
     "name": "#%%\n"
    }
   },
   "outputs": [],
   "source": [
    "query = 'select file_extension, file_path from droid_ids where file_format_count = 0 and file_extension=\"aspx\" limit 50'"
   ]
  },
  {
   "cell_type": "code",
   "execution_count": 37,
   "id": "be7b6908-114d-4842-80c7-a7a3477e0acd",
   "metadata": {
    "collapsed": false,
    "jupyter": {
     "outputs_hidden": false
    },
    "pycharm": {
     "name": "#%%\n"
    }
   },
   "outputs": [],
   "source": [
    "query = 'select sum(total_size), sum(total_count), sum(count) from (select count() as total_count, (count() - 1) as count, sum(size) as total_size from droid_ids where type != \"Folder\" group by hash, type) where total_count > 1'"
   ]
  },
  {
   "cell_type": "code",
   "execution_count": 41,
   "id": "b1ca62d9-a1d0-44aa-953c-b27738844aff",
   "metadata": {
    "collapsed": false,
    "jupyter": {
     "outputs_hidden": false
    },
    "pycharm": {
     "name": "#%%\n"
    }
   },
   "outputs": [],
   "source": [
    "query = 'select file_path, size from droid_ids where file_extension=\"avi\" order by size desc limit 10'"
   ]
  },
  {
   "cell_type": "code",
   "execution_count": 8,
   "id": "cbdee225-9e03-4f2e-acde-dfaea97fcbc4",
   "metadata": {
    "collapsed": false,
    "jupyter": {
     "outputs_hidden": false
    },
    "pycharm": {
     "name": "#%%\n"
    }
   },
   "outputs": [],
   "source": [
    "query = 'select \"total\", sum(count), sum(total_size) from (select file_extension, count() as count, sum(size) as total_size from droid_ids where type != \"Folder\" and file_extension in (\"exe\", \"apk\", \"ahk\", \"run\", \"xbe\", \"cmd\", \"jar\", \"ipa\", \"0xe\", \"bin\", \"elf\", \"xap\", \"air\", \"bat\", \"gadget\", \"ac\", \"app\", \"scr\", \"e_e\", \"u3p\", \"com\", \"out\", \"xlm\", \"pif\", \"widget\", \"script\", \"gpe\", \"73k\", \"command\", \"cgi\", \"x86_64\", \"rxe\", \"scb\", \"scar\", \"paf.exe\", \"sk\", \"ex_\", \"xex\", \"tcp\", \"epk\", \"acc\", \"ebs2\", \"nexe\", \"celx\", \"vxp\", \"coffee\", \"rfu\", \"isu\", \"fxp\", \"appimage\", \"ecf\", \"89k\", \"action\", \"xbap\", \"rbf\", \"x86\", \"plsc\") group by file_extension order by count() desc)'\n",
    "table_headers = ['File Extension', 'Count', 'Size']"
   ]
  },
  {
   "cell_type": "code",
   "execution_count": 7,
   "id": "bdcf4128-e9f3-4a5e-8401-30fe321e074c",
   "metadata": {
    "collapsed": false,
    "jupyter": {
     "outputs_hidden": false
    },
    "pycharm": {
     "name": "#%%\n"
    }
   },
   "outputs": [],
   "source": [
    "query = 'select file_extension, count() as count, sum(size) as total_size from droid_ids where type != \"Folder\" and file_extension in (\"swf\", \"swd\", \"fla\") group by file_extension order by count() desc'\n",
    "table_headers = ['File Extension', 'Count', 'Size']"
   ]
  },
  {
   "cell_type": "code",
   "execution_count": 3,
   "id": "3500543f-ece5-4c34-b759-bf75ee8e2eea",
   "metadata": {
    "collapsed": false,
    "jupyter": {
     "outputs_hidden": false
    },
    "pycharm": {
     "name": "#%%\n"
    }
   },
   "outputs": [],
   "source": [
    "query = 'select count() from droid_ids where type=\"Folder\" and status=\"Empty\"'"
   ]
  },
  {
   "cell_type": "markdown",
   "id": "c27951c5-87f3-412f-83a1-3ce1a0e024bf",
   "metadata": {},
   "source": [
    "## The following cells are for executing a query defined above.\n",
    "\n",
    "## You can either execute to the console or a file\n"
   ]
  },
  {
   "cell_type": "markdown",
   "id": "d8f8bd81-14ac-412c-8e86-37886fbf3a71",
   "metadata": {},
   "source": [
    "## Execute a query to stdout"
   ]
  },
  {
   "cell_type": "code",
   "execution_count": 4,
   "id": "ae313749-8d86-41f6-81e2-f06edddcaef1",
   "metadata": {
    "pycharm": {
     "is_executing": true
    }
   },
   "outputs": [
    {
     "name": "stdout",
     "output_type": "stream",
     "text": [
      "Trying to execute query: select count() from droid_ids where type=\"Folder\" and status=\"Empty\"\n",
      "(141550,)\n",
      "End\n"
     ]
    }
   ],
   "source": [
    "print('Trying to execute query:', query, flush=True)\n",
    "s = text(query)\n",
    "result = conn.execute(s).fetchall()\n",
    "for line in result:\n",
    "    print(line)\n",
    "print('End')"
   ]
  },
  {
   "cell_type": "markdown",
   "id": "a6cb8c6c-be52-4cf2-a321-323f370c4440",
   "metadata": {},
   "source": [
    "## Execute a query into a file"
   ]
  },
  {
   "cell_type": "code",
   "execution_count": 6,
   "id": "1778340c-b9c8-4875-bf09-b788ad30e185",
   "metadata": {},
   "outputs": [
    {
     "name": "stdout",
     "output_type": "stream",
     "text": [
      "Trying to execute query: select count() from droid_ids where type=\"Folder\" and status=\"Empty\"\n"
     ]
    }
   ],
   "source": [
    "\n",
    "print('Trying to execute query:', query, flush=True)\n",
    "s = text(query)\n",
    "stmt = f'Query:{s}'\n",
    "result = conn.execute(s).fetchall()"
   ]
  },
  {
   "cell_type": "code",
   "execution_count": 21,
   "id": "8a17edff-5ce5-4f81-b6cc-dba1b526fd3b",
   "metadata": {
    "collapsed": false,
    "jupyter": {
     "outputs_hidden": false
    },
    "pycharm": {
     "name": "#%%\n"
    }
   },
   "outputs": [],
   "source": [
    "with open('output.txt', 'w', encoding='utf-8') as file:\n",
    "    file.write(stmt + '\\n\\n')\n",
    "    for line in result:\n",
    "        insert = ' '.join([str(item) for item in line])\n",
    "        file.write(  + '\\n')"
   ]
  },
  {
   "cell_type": "markdown",
   "id": "686a68c7-9c7f-48bb-89cd-b6caf45f5c4b",
   "metadata": {
    "jupyter": {
     "outputs_hidden": false
    },
    "pycharm": {
     "name": "#%%\n"
    }
   },
   "source": [
    "# Execute a query into a table"
   ]
  },
  {
   "cell_type": "code",
   "execution_count": 8,
   "id": "8c5982d7-38d9-48ac-8a32-6b7fb7eee251",
   "metadata": {
    "collapsed": false,
    "jupyter": {
     "outputs_hidden": false
    },
    "pycharm": {
     "name": "#%%\n"
    }
   },
   "outputs": [
    {
     "name": "stdout",
     "output_type": "stream",
     "text": [
      "| File Extension | Count |     Size    |\n",
      "| -------------- | ----- | ----------- |\n",
      "|      swf       | 14672 |  8430577282 |\n",
      "|      fla       |  6009 | 54359623148 |\n",
      "|      swd       |  180  |   33059454  |\n"
     ]
    }
   ],
   "source": [
    "result = conn.execute(text(query)).fetchall()\n",
    "table_values = []\n",
    "for line in result:\n",
    "    table_values.append(list(line))\n",
    "output_as_markdown_table(table_headers, table_values)"
   ]
  },
  {
   "cell_type": "markdown",
   "id": "2014b8ff-1fe4-45e2-a1f3-77f7f8c1ce91",
   "metadata": {
    "jupyter": {
     "outputs_hidden": false
    },
    "pycharm": {
     "name": "#%%\n"
    }
   },
   "source": [
    "\n",
    "# Turn query results into a Graph with matplot\n"
   ]
  },
  {
   "cell_type": "code",
   "execution_count": 21,
   "id": "27ddeb3c-b11a-4bbf-b8a7-a7da05a0e816",
   "metadata": {
    "collapsed": false,
    "jupyter": {
     "outputs_hidden": false
    },
    "pycharm": {
     "name": "#%%\n"
    }
   },
   "outputs": [],
   "source": [
    "%matplotlib inline"
   ]
  },
  {
   "cell_type": "code",
   "execution_count": 21,
   "id": "b6b41981-252a-47c1-8cf1-8e3010006981",
   "metadata": {
    "collapsed": false,
    "jupyter": {
     "outputs_hidden": false
    },
    "pycharm": {
     "name": "#%%\n"
    }
   },
   "outputs": [],
   "source": [
    "#init_datatables_mode()\n",
    "\n",
    "file_format_names = []\n",
    "file_format_count = []\n",
    "file_format_names_1 = []\n",
    "\n",
    "for elem in file_format_name_population:\n",
    "    if elem[1] > 1000:\n",
    "        file_format_names.append(elem[0])\n",
    "        file_format_count.append(elem[1])\n",
    "    else:\n",
    "        file_format_names_1.append(elem[0])\n",
    "        \n",
    "minority_count = len(file_format_names_1)\n",
    "\n",
    "if minority_count > 1:\n",
    "    file_format_names.append('Other')\n",
    "    file_format_count.append(minority_count)\n",
    "    \n",
    "def func(pct, allvalues):\n",
    "    absolute = int(pct / 100.*np.sum(allvalues))\n",
    "    return \"{:.1f}%\\n({:d})\".format(pct, absolute)\n",
    "\n",
    "def queryPieGraph(values,headers,title_graph,title_legend):\n",
    "    fig, ax = plt.subplots(figsize =(10, 7))\n",
    "    wedges, texts, autotexts = ax.pie(file_format_count,\n",
    "                                      autopct = lambda pct: func(pct, values),\n",
    "                                      startangle = 90)\n",
    "\n",
    "    # Adding legend\n",
    "    ax.legend(wedges, headers,\n",
    "              title = title_legend,\n",
    "              loc =\"center left\",\n",
    "              bbox_to_anchor =(1, 0, 0.5, 1))\n",
    "\n",
    "    plt.setp(autotexts, size = 8, weight =\"bold\")\n",
    "    ax.set_title(title_graph)\n",
    "\n",
    "    plt.show()"
   ]
  },
  {
   "cell_type": "markdown",
   "id": "830ef7e8-44bc-4277-b820-d7adc0d0ab02",
   "metadata": {},
   "source": [
    "#### Replication of Table 1, File Formats By Number from Kaltman 2019\n",
    "\n",
    "| Extension |                 File Format                 | Format Version | Count  |\n",
    "| --------- | ------------------------------------------- | -------------- | ------ |\n",
    "|    bin    |                 Binary File                 |                | 618453 |\n",
    "|    png    |          Portable Network Graphics          |      1.0       | 587617 |\n",
    "|           |          Portable Network Graphics          |      1.0       | 281606 |\n",
    "|    jpg    |         JPEG File Interchange Format        |      1.01      | 233531 |\n",
    "|    xml    |          Extensible Markup Language         |      1.0       | 228147 |\n",
    "|    jpg    |         JPEG File Interchange Format        |      1.02      | 185052 |\n",
    "|    tif    |           Tagged Image File Format          |                | 182736 |\n",
    "|    php    |     Extensible Hypertext Markup Language    |      1.0       | 180855 |\n",
    "|    png    |          Portable Network Graphics          |      1.1       | 176427 |\n",
    "|    html   |     Extensible Hypertext Markup Language    |      1.0       | 146563 |\n",
    "|   class   |          Java Compiled Object Code          |                | 129911 |\n",
    "|     js    |               JavaScript file               |                | 114332 |\n",
    "|    exr    |                   OpenEXR                   |       2        | 106891 |\n",
    "|    wav    |        Waveform Audio (PCMWAVEFORMAT)       |                | 105623 |\n",
    "|    dll    |         Windows Portable Executable         |     32 bit     | 92153  |\n",
    "|    png    |          Portable Network Graphics          |      1.2       | 87221  |\n",
    "|    info   |        Guymager Acquisition Info File       |                | 76318  |\n",
    "|    iff    |             Maya IFF Image File             |                | 74963  |\n",
    "|     py    |              Python Script File             |                | 63176  |\n",
    "|    jpg    | Exchangeable Image File Format (Compressed) |     2.2.1      | 60505  |"
   ]
  },
  {
   "cell_type": "code",
   "execution_count": null,
   "id": "18a988ed-0ff4-4176-b016-b8302f66a1d0",
   "metadata": {},
   "outputs": [],
   "source": []
  },
  {
   "cell_type": "markdown",
   "id": "25dd9348-27a8-43aa-9548-b735ea602312",
   "metadata": {},
   "source": [
    "#### Replication of Table 2, File Formats By Size from Kaltman 2019\n",
    "\n",
    "|               File Format Name              |   Version    | Size (GB) |\n",
    "| ------------------------------------------- | ------------ | --------- |\n",
    "|                     M2TS                    |              |  2428.36  |\n",
    "|                  Quicktime                  |              |  2401.49  |\n",
    "|        Audio/Video Interleaved Format       |              |  1903.86  |\n",
    "|              MPEG-4 Media File              |              |   872.33  |\n",
    "|               Adobe Photoshop               |              |   502.17  |\n",
    "|           Tagged Image File Format          |              |   418.25  |\n",
    "|            Maya ASCII File Format           |              |   397.34  |\n",
    "|          Portable Network Graphics          |     1.0      |   340.53  |\n",
    "|                   OpenEXR                   |      2       |   322.61  |\n",
    "|                Macromedia FLV               |      1       |   187.17  |\n",
    "| Exchangeable Image File Format (Compressed) |    2.2.1     |   154.24  |\n",
    "|             Maya IFF Image File             |              |   133.54  |\n",
    "|       Microsoft Powerpoint for Windows      | 2007 onwards |   121.23  |\n",
    "|         JPEG File Interchange Format        |     1.02     |   114.42  |\n",
    "|        Waveform Audio (PCMWAVEFORMAT)       |              |   104.1   |\n",
    "|               Raw JPEG Stream               |              |   103.19  |\n",
    "|          Java Compiled Object Code          |              |    98.9   |\n",
    "|         Windows Portable Executable         |    32 bit    |    96.4   |\n",
    "|            MPEG-2 Program Stream            |              |   95.43   |\n",
    "|          Apple Lossless Audio Codec         |              |   92.36   |\n"
   ]
  },
  {
   "cell_type": "code",
   "execution_count": null,
   "id": "30c14eda-6d6c-462f-921b-aeeb319fc5b3",
   "metadata": {},
   "outputs": [],
   "source": []
  }
 ],
 "metadata": {
  "kernelspec": {
   "display_name": "Python 3",
   "language": "python",
   "name": "python3"
  },
  "language_info": {
   "codemirror_mode": {
    "name": "ipython",
    "version": 3
   },
   "file_extension": ".py",
   "mimetype": "text/x-python",
   "name": "python",
   "nbconvert_exporter": "python",
   "pygments_lexer": "ipython3",
   "version": "3.9.1"
  }
 },
 "nbformat": 4,
 "nbformat_minor": 5
}
